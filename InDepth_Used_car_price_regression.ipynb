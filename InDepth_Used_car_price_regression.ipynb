{
 "cells": [
  {
   "cell_type": "markdown",
   "id": "45ce0797",
   "metadata": {},
   "source": [
    "# Predicting the Used Cars Pricing using Machine Learning\n",
    "\n",
    "In this notebook, I am going to go through an example machine learning project with the goal of predicting the sale price of set used cars."
   ]
  },
  {
   "cell_type": "markdown",
   "id": "b085daaa",
   "metadata": {},
   "source": [
    "1. Problem definition\n",
    "How well can we predict the price of a used cars, given its characteristics and categories provided by Kaggle.\n",
    "\n",
    "\n",
    "2. Data\n",
    "The data was adapted from that of Used Cars Dataset , which was constructed by scraping data on car sales from Craigslist.org every few months. https://www.kaggle.com/datasets/austinreese/craigslist-carstrucks-data\n",
    "\n",
    "There is 1 dataset:\n",
    "\n",
    "* vehicles.csv\n",
    "\n",
    "3. Evaluation\n",
    "The evaluation metric for this competition is the RMSLE (root mean squared log error) between the actual and predicted prices.\n",
    "\n",
    "For more on the evaluation of this project check: https://www.kaggle.com/datasets/austinreese/craigslist-carstrucks-data\n",
    "\n",
    "Note: The goal for most regression evaluation metrics is to minimize the error. For example, our goal for this project will be to build a machine learning model which minimises RMSLE.\n",
    "\n",
    "4. Features \n",
    "\n",
    "* id - a unique identifier for each row\n",
    "* url - listing URL\n",
    "* region - craigslist region\n",
    "* region_url - region URL\n",
    "* price - entry price\n",
    "* year - year of vehicle\n",
    "* manufacturer - manufacturer of vehicle\n",
    "* model - model of vehicle\n",
    "* condition - condition of vehicle\n",
    "* cylinders - number of cylinders\n",
    "* fuel - fuel type\n",
    "* odometer - miles traveled by vehicle\n",
    "* title_status - title status of vehicle\n",
    "* transmission - transmission of vehicle\n",
    "* VIN - vehicle identification number\n",
    "* drive - type of drive\n",
    "* size - size of vehicle\n",
    "* type - generic type of vehicle\n",
    "* paint_color - color of vehicle\n",
    "* image_url - image URL\n",
    "* description - listed description of vehicle\n",
    "* state - state of listing\n",
    "* lat - latitude of listing\n",
    "* long - longitude of listing\n",
    "* posting_date - date of posting the listing"
   ]
  },
  {
   "cell_type": "markdown",
   "id": "9ce73145",
   "metadata": {},
   "source": [
    "# Importing the data and preparing it for modeling"
   ]
  },
  {
   "cell_type": "code",
   "execution_count": 7,
   "id": "be7f47b0",
   "metadata": {},
   "outputs": [],
   "source": [
    "# Import data analysis tools \n",
    "import pandas as pd\n",
    "import numpy as np\n",
    "import matplotlib.pyplot as plt"
   ]
  },
  {
   "cell_type": "code",
   "execution_count": 8,
   "id": "1016deab",
   "metadata": {},
   "outputs": [],
   "source": [
    "# Import the training and validation set\n",
    "df = pd.read_csv(\"vehicles.csv\")"
   ]
  },
  {
   "cell_type": "code",
   "execution_count": 9,
   "id": "80727605",
   "metadata": {},
   "outputs": [
    {
     "name": "stdout",
     "output_type": "stream",
     "text": [
      "<class 'pandas.core.frame.DataFrame'>\n",
      "RangeIndex: 426880 entries, 0 to 426879\n",
      "Data columns (total 26 columns):\n",
      " #   Column        Non-Null Count   Dtype  \n",
      "---  ------        --------------   -----  \n",
      " 0   id            426880 non-null  int64  \n",
      " 1   url           426880 non-null  object \n",
      " 2   region        426880 non-null  object \n",
      " 3   region_url    426880 non-null  object \n",
      " 4   price         426880 non-null  int64  \n",
      " 5   year          425675 non-null  float64\n",
      " 6   manufacturer  409234 non-null  object \n",
      " 7   model         421603 non-null  object \n",
      " 8   condition     252776 non-null  object \n",
      " 9   cylinders     249202 non-null  object \n",
      " 10  fuel          423867 non-null  object \n",
      " 11  odometer      422480 non-null  float64\n",
      " 12  title_status  418638 non-null  object \n",
      " 13  transmission  424324 non-null  object \n",
      " 14  VIN           265838 non-null  object \n",
      " 15  drive         296313 non-null  object \n",
      " 16  size          120519 non-null  object \n",
      " 17  type          334022 non-null  object \n",
      " 18  paint_color   296677 non-null  object \n",
      " 19  image_url     426812 non-null  object \n",
      " 20  description   426810 non-null  object \n",
      " 21  county        0 non-null       float64\n",
      " 22  state         426880 non-null  object \n",
      " 23  lat           420331 non-null  float64\n",
      " 24  long          420331 non-null  float64\n",
      " 25  posting_date  426812 non-null  object \n",
      "dtypes: float64(5), int64(2), object(19)\n",
      "memory usage: 84.7+ MB\n"
     ]
    }
   ],
   "source": [
    "df.info()"
   ]
  },
  {
   "cell_type": "code",
   "execution_count": 10,
   "id": "affd833e",
   "metadata": {},
   "outputs": [
    {
     "data": {
      "text/html": [
       "<div>\n",
       "<style scoped>\n",
       "    .dataframe tbody tr th:only-of-type {\n",
       "        vertical-align: middle;\n",
       "    }\n",
       "\n",
       "    .dataframe tbody tr th {\n",
       "        vertical-align: top;\n",
       "    }\n",
       "\n",
       "    .dataframe thead th {\n",
       "        text-align: right;\n",
       "    }\n",
       "</style>\n",
       "<table border=\"1\" class=\"dataframe\">\n",
       "  <thead>\n",
       "    <tr style=\"text-align: right;\">\n",
       "      <th></th>\n",
       "      <th>0</th>\n",
       "      <th>1</th>\n",
       "      <th>2</th>\n",
       "      <th>3</th>\n",
       "      <th>4</th>\n",
       "    </tr>\n",
       "  </thead>\n",
       "  <tbody>\n",
       "    <tr>\n",
       "      <th>id</th>\n",
       "      <td>7222695916</td>\n",
       "      <td>7218891961</td>\n",
       "      <td>7221797935</td>\n",
       "      <td>7222270760</td>\n",
       "      <td>7210384030</td>\n",
       "    </tr>\n",
       "    <tr>\n",
       "      <th>url</th>\n",
       "      <td>https://prescott.craigslist.org/cto/d/prescott...</td>\n",
       "      <td>https://fayar.craigslist.org/ctd/d/bentonville...</td>\n",
       "      <td>https://keys.craigslist.org/cto/d/summerland-k...</td>\n",
       "      <td>https://worcester.craigslist.org/cto/d/west-br...</td>\n",
       "      <td>https://greensboro.craigslist.org/cto/d/trinit...</td>\n",
       "    </tr>\n",
       "    <tr>\n",
       "      <th>region</th>\n",
       "      <td>prescott</td>\n",
       "      <td>fayetteville</td>\n",
       "      <td>florida keys</td>\n",
       "      <td>worcester / central MA</td>\n",
       "      <td>greensboro</td>\n",
       "    </tr>\n",
       "    <tr>\n",
       "      <th>region_url</th>\n",
       "      <td>https://prescott.craigslist.org</td>\n",
       "      <td>https://fayar.craigslist.org</td>\n",
       "      <td>https://keys.craigslist.org</td>\n",
       "      <td>https://worcester.craigslist.org</td>\n",
       "      <td>https://greensboro.craigslist.org</td>\n",
       "    </tr>\n",
       "    <tr>\n",
       "      <th>price</th>\n",
       "      <td>6000</td>\n",
       "      <td>11900</td>\n",
       "      <td>21000</td>\n",
       "      <td>1500</td>\n",
       "      <td>4900</td>\n",
       "    </tr>\n",
       "    <tr>\n",
       "      <th>year</th>\n",
       "      <td>NaN</td>\n",
       "      <td>NaN</td>\n",
       "      <td>NaN</td>\n",
       "      <td>NaN</td>\n",
       "      <td>NaN</td>\n",
       "    </tr>\n",
       "    <tr>\n",
       "      <th>manufacturer</th>\n",
       "      <td>NaN</td>\n",
       "      <td>NaN</td>\n",
       "      <td>NaN</td>\n",
       "      <td>NaN</td>\n",
       "      <td>NaN</td>\n",
       "    </tr>\n",
       "    <tr>\n",
       "      <th>model</th>\n",
       "      <td>NaN</td>\n",
       "      <td>NaN</td>\n",
       "      <td>NaN</td>\n",
       "      <td>NaN</td>\n",
       "      <td>NaN</td>\n",
       "    </tr>\n",
       "    <tr>\n",
       "      <th>condition</th>\n",
       "      <td>NaN</td>\n",
       "      <td>NaN</td>\n",
       "      <td>NaN</td>\n",
       "      <td>NaN</td>\n",
       "      <td>NaN</td>\n",
       "    </tr>\n",
       "    <tr>\n",
       "      <th>cylinders</th>\n",
       "      <td>NaN</td>\n",
       "      <td>NaN</td>\n",
       "      <td>NaN</td>\n",
       "      <td>NaN</td>\n",
       "      <td>NaN</td>\n",
       "    </tr>\n",
       "    <tr>\n",
       "      <th>fuel</th>\n",
       "      <td>NaN</td>\n",
       "      <td>NaN</td>\n",
       "      <td>NaN</td>\n",
       "      <td>NaN</td>\n",
       "      <td>NaN</td>\n",
       "    </tr>\n",
       "    <tr>\n",
       "      <th>odometer</th>\n",
       "      <td>NaN</td>\n",
       "      <td>NaN</td>\n",
       "      <td>NaN</td>\n",
       "      <td>NaN</td>\n",
       "      <td>NaN</td>\n",
       "    </tr>\n",
       "    <tr>\n",
       "      <th>title_status</th>\n",
       "      <td>NaN</td>\n",
       "      <td>NaN</td>\n",
       "      <td>NaN</td>\n",
       "      <td>NaN</td>\n",
       "      <td>NaN</td>\n",
       "    </tr>\n",
       "    <tr>\n",
       "      <th>transmission</th>\n",
       "      <td>NaN</td>\n",
       "      <td>NaN</td>\n",
       "      <td>NaN</td>\n",
       "      <td>NaN</td>\n",
       "      <td>NaN</td>\n",
       "    </tr>\n",
       "    <tr>\n",
       "      <th>VIN</th>\n",
       "      <td>NaN</td>\n",
       "      <td>NaN</td>\n",
       "      <td>NaN</td>\n",
       "      <td>NaN</td>\n",
       "      <td>NaN</td>\n",
       "    </tr>\n",
       "    <tr>\n",
       "      <th>drive</th>\n",
       "      <td>NaN</td>\n",
       "      <td>NaN</td>\n",
       "      <td>NaN</td>\n",
       "      <td>NaN</td>\n",
       "      <td>NaN</td>\n",
       "    </tr>\n",
       "    <tr>\n",
       "      <th>size</th>\n",
       "      <td>NaN</td>\n",
       "      <td>NaN</td>\n",
       "      <td>NaN</td>\n",
       "      <td>NaN</td>\n",
       "      <td>NaN</td>\n",
       "    </tr>\n",
       "    <tr>\n",
       "      <th>type</th>\n",
       "      <td>NaN</td>\n",
       "      <td>NaN</td>\n",
       "      <td>NaN</td>\n",
       "      <td>NaN</td>\n",
       "      <td>NaN</td>\n",
       "    </tr>\n",
       "    <tr>\n",
       "      <th>paint_color</th>\n",
       "      <td>NaN</td>\n",
       "      <td>NaN</td>\n",
       "      <td>NaN</td>\n",
       "      <td>NaN</td>\n",
       "      <td>NaN</td>\n",
       "    </tr>\n",
       "    <tr>\n",
       "      <th>image_url</th>\n",
       "      <td>NaN</td>\n",
       "      <td>NaN</td>\n",
       "      <td>NaN</td>\n",
       "      <td>NaN</td>\n",
       "      <td>NaN</td>\n",
       "    </tr>\n",
       "    <tr>\n",
       "      <th>description</th>\n",
       "      <td>NaN</td>\n",
       "      <td>NaN</td>\n",
       "      <td>NaN</td>\n",
       "      <td>NaN</td>\n",
       "      <td>NaN</td>\n",
       "    </tr>\n",
       "    <tr>\n",
       "      <th>county</th>\n",
       "      <td>NaN</td>\n",
       "      <td>NaN</td>\n",
       "      <td>NaN</td>\n",
       "      <td>NaN</td>\n",
       "      <td>NaN</td>\n",
       "    </tr>\n",
       "    <tr>\n",
       "      <th>state</th>\n",
       "      <td>az</td>\n",
       "      <td>ar</td>\n",
       "      <td>fl</td>\n",
       "      <td>ma</td>\n",
       "      <td>nc</td>\n",
       "    </tr>\n",
       "    <tr>\n",
       "      <th>lat</th>\n",
       "      <td>NaN</td>\n",
       "      <td>NaN</td>\n",
       "      <td>NaN</td>\n",
       "      <td>NaN</td>\n",
       "      <td>NaN</td>\n",
       "    </tr>\n",
       "    <tr>\n",
       "      <th>long</th>\n",
       "      <td>NaN</td>\n",
       "      <td>NaN</td>\n",
       "      <td>NaN</td>\n",
       "      <td>NaN</td>\n",
       "      <td>NaN</td>\n",
       "    </tr>\n",
       "    <tr>\n",
       "      <th>posting_date</th>\n",
       "      <td>NaN</td>\n",
       "      <td>NaN</td>\n",
       "      <td>NaN</td>\n",
       "      <td>NaN</td>\n",
       "      <td>NaN</td>\n",
       "    </tr>\n",
       "  </tbody>\n",
       "</table>\n",
       "</div>"
      ],
      "text/plain": [
       "                                                              0  \\\n",
       "id                                                   7222695916   \n",
       "url           https://prescott.craigslist.org/cto/d/prescott...   \n",
       "region                                                 prescott   \n",
       "region_url                      https://prescott.craigslist.org   \n",
       "price                                                      6000   \n",
       "year                                                        NaN   \n",
       "manufacturer                                                NaN   \n",
       "model                                                       NaN   \n",
       "condition                                                   NaN   \n",
       "cylinders                                                   NaN   \n",
       "fuel                                                        NaN   \n",
       "odometer                                                    NaN   \n",
       "title_status                                                NaN   \n",
       "transmission                                                NaN   \n",
       "VIN                                                         NaN   \n",
       "drive                                                       NaN   \n",
       "size                                                        NaN   \n",
       "type                                                        NaN   \n",
       "paint_color                                                 NaN   \n",
       "image_url                                                   NaN   \n",
       "description                                                 NaN   \n",
       "county                                                      NaN   \n",
       "state                                                        az   \n",
       "lat                                                         NaN   \n",
       "long                                                        NaN   \n",
       "posting_date                                                NaN   \n",
       "\n",
       "                                                              1  \\\n",
       "id                                                   7218891961   \n",
       "url           https://fayar.craigslist.org/ctd/d/bentonville...   \n",
       "region                                             fayetteville   \n",
       "region_url                         https://fayar.craigslist.org   \n",
       "price                                                     11900   \n",
       "year                                                        NaN   \n",
       "manufacturer                                                NaN   \n",
       "model                                                       NaN   \n",
       "condition                                                   NaN   \n",
       "cylinders                                                   NaN   \n",
       "fuel                                                        NaN   \n",
       "odometer                                                    NaN   \n",
       "title_status                                                NaN   \n",
       "transmission                                                NaN   \n",
       "VIN                                                         NaN   \n",
       "drive                                                       NaN   \n",
       "size                                                        NaN   \n",
       "type                                                        NaN   \n",
       "paint_color                                                 NaN   \n",
       "image_url                                                   NaN   \n",
       "description                                                 NaN   \n",
       "county                                                      NaN   \n",
       "state                                                        ar   \n",
       "lat                                                         NaN   \n",
       "long                                                        NaN   \n",
       "posting_date                                                NaN   \n",
       "\n",
       "                                                              2  \\\n",
       "id                                                   7221797935   \n",
       "url           https://keys.craigslist.org/cto/d/summerland-k...   \n",
       "region                                             florida keys   \n",
       "region_url                          https://keys.craigslist.org   \n",
       "price                                                     21000   \n",
       "year                                                        NaN   \n",
       "manufacturer                                                NaN   \n",
       "model                                                       NaN   \n",
       "condition                                                   NaN   \n",
       "cylinders                                                   NaN   \n",
       "fuel                                                        NaN   \n",
       "odometer                                                    NaN   \n",
       "title_status                                                NaN   \n",
       "transmission                                                NaN   \n",
       "VIN                                                         NaN   \n",
       "drive                                                       NaN   \n",
       "size                                                        NaN   \n",
       "type                                                        NaN   \n",
       "paint_color                                                 NaN   \n",
       "image_url                                                   NaN   \n",
       "description                                                 NaN   \n",
       "county                                                      NaN   \n",
       "state                                                        fl   \n",
       "lat                                                         NaN   \n",
       "long                                                        NaN   \n",
       "posting_date                                                NaN   \n",
       "\n",
       "                                                              3  \\\n",
       "id                                                   7222270760   \n",
       "url           https://worcester.craigslist.org/cto/d/west-br...   \n",
       "region                                   worcester / central MA   \n",
       "region_url                     https://worcester.craigslist.org   \n",
       "price                                                      1500   \n",
       "year                                                        NaN   \n",
       "manufacturer                                                NaN   \n",
       "model                                                       NaN   \n",
       "condition                                                   NaN   \n",
       "cylinders                                                   NaN   \n",
       "fuel                                                        NaN   \n",
       "odometer                                                    NaN   \n",
       "title_status                                                NaN   \n",
       "transmission                                                NaN   \n",
       "VIN                                                         NaN   \n",
       "drive                                                       NaN   \n",
       "size                                                        NaN   \n",
       "type                                                        NaN   \n",
       "paint_color                                                 NaN   \n",
       "image_url                                                   NaN   \n",
       "description                                                 NaN   \n",
       "county                                                      NaN   \n",
       "state                                                        ma   \n",
       "lat                                                         NaN   \n",
       "long                                                        NaN   \n",
       "posting_date                                                NaN   \n",
       "\n",
       "                                                              4  \n",
       "id                                                   7210384030  \n",
       "url           https://greensboro.craigslist.org/cto/d/trinit...  \n",
       "region                                               greensboro  \n",
       "region_url                    https://greensboro.craigslist.org  \n",
       "price                                                      4900  \n",
       "year                                                        NaN  \n",
       "manufacturer                                                NaN  \n",
       "model                                                       NaN  \n",
       "condition                                                   NaN  \n",
       "cylinders                                                   NaN  \n",
       "fuel                                                        NaN  \n",
       "odometer                                                    NaN  \n",
       "title_status                                                NaN  \n",
       "transmission                                                NaN  \n",
       "VIN                                                         NaN  \n",
       "drive                                                       NaN  \n",
       "size                                                        NaN  \n",
       "type                                                        NaN  \n",
       "paint_color                                                 NaN  \n",
       "image_url                                                   NaN  \n",
       "description                                                 NaN  \n",
       "county                                                      NaN  \n",
       "state                                                        nc  \n",
       "lat                                                         NaN  \n",
       "long                                                        NaN  \n",
       "posting_date                                                NaN  "
      ]
     },
     "execution_count": 10,
     "metadata": {},
     "output_type": "execute_result"
    }
   ],
   "source": [
    "df.head().T"
   ]
  },
  {
   "cell_type": "code",
   "execution_count": 11,
   "id": "31fb2a7c",
   "metadata": {},
   "outputs": [
    {
     "data": {
      "text/plain": [
       "<matplotlib.collections.PathCollection at 0x388d5aa50>"
      ]
     },
     "execution_count": 11,
     "metadata": {},
     "output_type": "execute_result"
    },
    {
     "data": {
      "image/png": "[encoded data removed]",
      "text/plain": [
       "<Figure size 640x480 with 1 Axes>"
      ]
     },
     "metadata": {},
     "output_type": "display_data"
    }
   ],
   "source": [
    "fig, ax = plt.subplots()\n",
    "ax.scatter(df[\"price\"][:100], df[\"year\"][:100])"
   ]
  },
  {
   "cell_type": "code",
   "execution_count": 12,
   "id": "7d10985b",
   "metadata": {},
   "outputs": [
    {
     "data": {
      "text/plain": [
       "<Axes: ylabel='Frequency'>"
      ]
     },
     "execution_count": 12,
     "metadata": {},
     "output_type": "execute_result"
    },
    {
     "data": {
      "image/png": "[encoded data removed]",
      "text/plain": [
       "<Figure size 640x480 with 1 Axes>"
      ]
     },
     "metadata": {},
     "output_type": "display_data"
    }
   ],
   "source": [
    "df.price.plot.hist()"
   ]
  },
  {
   "cell_type": "code",
   "execution_count": 13,
   "id": "1e2e23ed",
   "metadata": {},
   "outputs": [
    {
     "data": {
      "text/html": [
       "<div>\n",
       "<style scoped>\n",
       "    .dataframe tbody tr th:only-of-type {\n",
       "        vertical-align: middle;\n",
       "    }\n",
       "\n",
       "    .dataframe tbody tr th {\n",
       "        vertical-align: top;\n",
       "    }\n",
       "\n",
       "    .dataframe thead th {\n",
       "        text-align: right;\n",
       "    }\n",
       "</style>\n",
       "<table border=\"1\" class=\"dataframe\">\n",
       "  <thead>\n",
       "    <tr style=\"text-align: right;\">\n",
       "      <th></th>\n",
       "      <th>id</th>\n",
       "      <th>price</th>\n",
       "      <th>year</th>\n",
       "      <th>odometer</th>\n",
       "      <th>county</th>\n",
       "      <th>lat</th>\n",
       "      <th>long</th>\n",
       "    </tr>\n",
       "  </thead>\n",
       "  <tbody>\n",
       "    <tr>\n",
       "      <th>id</th>\n",
       "      <td>1.000000</td>\n",
       "      <td>-0.002779</td>\n",
       "      <td>-0.059040</td>\n",
       "      <td>0.010721</td>\n",
       "      <td>NaN</td>\n",
       "      <td>-0.069388</td>\n",
       "      <td>-0.121864</td>\n",
       "    </tr>\n",
       "    <tr>\n",
       "      <th>price</th>\n",
       "      <td>-0.002779</td>\n",
       "      <td>1.000000</td>\n",
       "      <td>-0.004925</td>\n",
       "      <td>0.010032</td>\n",
       "      <td>NaN</td>\n",
       "      <td>0.000357</td>\n",
       "      <td>-0.000408</td>\n",
       "    </tr>\n",
       "    <tr>\n",
       "      <th>year</th>\n",
       "      <td>-0.059040</td>\n",
       "      <td>-0.004925</td>\n",
       "      <td>1.000000</td>\n",
       "      <td>-0.157215</td>\n",
       "      <td>NaN</td>\n",
       "      <td>-0.014677</td>\n",
       "      <td>-0.001410</td>\n",
       "    </tr>\n",
       "    <tr>\n",
       "      <th>odometer</th>\n",
       "      <td>0.010721</td>\n",
       "      <td>0.010032</td>\n",
       "      <td>-0.157215</td>\n",
       "      <td>1.000000</td>\n",
       "      <td>NaN</td>\n",
       "      <td>-0.001459</td>\n",
       "      <td>0.009807</td>\n",
       "    </tr>\n",
       "    <tr>\n",
       "      <th>county</th>\n",
       "      <td>NaN</td>\n",
       "      <td>NaN</td>\n",
       "      <td>NaN</td>\n",
       "      <td>NaN</td>\n",
       "      <td>NaN</td>\n",
       "      <td>NaN</td>\n",
       "      <td>NaN</td>\n",
       "    </tr>\n",
       "    <tr>\n",
       "      <th>lat</th>\n",
       "      <td>-0.069388</td>\n",
       "      <td>0.000357</td>\n",
       "      <td>-0.014677</td>\n",
       "      <td>-0.001459</td>\n",
       "      <td>NaN</td>\n",
       "      <td>1.000000</td>\n",
       "      <td>-0.128088</td>\n",
       "    </tr>\n",
       "    <tr>\n",
       "      <th>long</th>\n",
       "      <td>-0.121864</td>\n",
       "      <td>-0.000408</td>\n",
       "      <td>-0.001410</td>\n",
       "      <td>0.009807</td>\n",
       "      <td>NaN</td>\n",
       "      <td>-0.128088</td>\n",
       "      <td>1.000000</td>\n",
       "    </tr>\n",
       "  </tbody>\n",
       "</table>\n",
       "</div>"
      ],
      "text/plain": [
       "                id     price      year  odometer  county       lat      long\n",
       "id        1.000000 -0.002779 -0.059040  0.010721     NaN -0.069388 -0.121864\n",
       "price    -0.002779  1.000000 -0.004925  0.010032     NaN  0.000357 -0.000408\n",
       "year     -0.059040 -0.004925  1.000000 -0.157215     NaN -0.014677 -0.001410\n",
       "odometer  0.010721  0.010032 -0.157215  1.000000     NaN -0.001459  0.009807\n",
       "county         NaN       NaN       NaN       NaN     NaN       NaN       NaN\n",
       "lat      -0.069388  0.000357 -0.014677 -0.001459     NaN  1.000000 -0.128088\n",
       "long     -0.121864 -0.000408 -0.001410  0.009807     NaN -0.128088  1.000000"
      ]
     },
     "execution_count": 13,
     "metadata": {},
     "output_type": "execute_result"
    }
   ],
   "source": [
    "df.corr(numeric_only=True)"
   ]
  },
  {
   "cell_type": "code",
   "execution_count": 14,
   "id": "3a1b1d14",
   "metadata": {},
   "outputs": [
    {
     "data": {
      "text/plain": [
       "0      6000\n",
       "1     11900\n",
       "2     21000\n",
       "3      1500\n",
       "4      4900\n",
       "5      1600\n",
       "6      1000\n",
       "7     15995\n",
       "8      5000\n",
       "9      3000\n",
       "10        0\n",
       "11        0\n",
       "12        0\n",
       "13        0\n",
       "14        0\n",
       "15    13995\n",
       "16    24999\n",
       "17    21850\n",
       "18    26850\n",
       "19    11999\n",
       "20    24999\n",
       "21    21850\n",
       "22    26850\n",
       "23    11999\n",
       "24    24999\n",
       "25    21850\n",
       "26      500\n",
       "27    33590\n",
       "28    22590\n",
       "29    39590\n",
       "Name: price, dtype: int64"
      ]
     },
     "execution_count": 14,
     "metadata": {},
     "output_type": "execute_result"
    }
   ],
   "source": [
    "df.price.head(30)"
   ]
  },
  {
   "cell_type": "markdown",
   "id": "699757c9",
   "metadata": {},
   "source": [
    "## Make a copy of the original DataFrame\n",
    "Since I am going to be manipulating the data, I'll make a copy of the original DataFrame and perform our changes there.\n",
    "\n",
    "This will keep the original DataFrame in tact if we need it again."
   ]
  },
  {
   "cell_type": "code",
   "execution_count": 15,
   "id": "e1f5e0e3",
   "metadata": {},
   "outputs": [],
   "source": [
    "# Make a copy of the original DataFrame to perform edits on\n",
    "df_tmp = df.copy()"
   ]
  },
  {
   "cell_type": "code",
   "execution_count": 16,
   "id": "9d3b40d5",
   "metadata": {},
   "outputs": [
    {
     "data": {
      "text/plain": [
       "ford               70985\n",
       "chevrolet          55064\n",
       "toyota             34202\n",
       "honda              21269\n",
       "nissan             19067\n",
       "jeep               19014\n",
       "ram                18342\n",
       "gmc                16785\n",
       "bmw                14699\n",
       "dodge              13707\n",
       "mercedes-benz      11817\n",
       "hyundai            10338\n",
       "subaru              9495\n",
       "volkswagen          9345\n",
       "kia                 8457\n",
       "lexus               8200\n",
       "audi                7573\n",
       "cadillac            6953\n",
       "chrysler            6031\n",
       "acura               5978\n",
       "buick               5501\n",
       "mazda               5427\n",
       "infiniti            4802\n",
       "lincoln             4220\n",
       "volvo               3374\n",
       "mitsubishi          3292\n",
       "mini                2376\n",
       "pontiac             2288\n",
       "rover               2113\n",
       "jaguar              1946\n",
       "porsche             1384\n",
       "mercury             1184\n",
       "saturn              1090\n",
       "alfa-romeo           897\n",
       "tesla                868\n",
       "fiat                 792\n",
       "harley-davidson      153\n",
       "ferrari               95\n",
       "datsun                63\n",
       "aston-martin          24\n",
       "land rover            21\n",
       "morgan                 3\n",
       "Name: manufacturer, dtype: int64"
      ]
     },
     "execution_count": 16,
     "metadata": {},
     "output_type": "execute_result"
    }
   ],
   "source": [
    "# Check the different values of different columns\n",
    "df_tmp.manufacturer.value_counts()"
   ]
  },
  {
   "cell_type": "markdown",
   "id": "d5aa7bf7",
   "metadata": {},
   "source": [
    "## 5. Modelling\n",
    "\n",
    "Knowing the evaluation metric I am heading towards. I could spend more time doing exploratory data analysis (EDA), finding more out about the data ourselves but what I'll do instead is use a machine learning model to help me do EDA.\n",
    "\n",
    "Following the https://scikit-learn.org/stable/tutorial/machine_learning_map/index.html learning map, we find a https://scikit-learn.org/stable/modules/generated/sklearn.ensemble.RandomForestRegressor.html#sklearn-ensemble-randomforestregressor might be a good candidate."
   ]
  },
  {
   "cell_type": "code",
   "execution_count": 17,
   "id": "0a954a6b",
   "metadata": {},
   "outputs": [
    {
     "name": "stdout",
     "output_type": "stream",
     "text": [
      "<class 'pandas.core.frame.DataFrame'>\n",
      "RangeIndex: 426880 entries, 0 to 426879\n",
      "Data columns (total 26 columns):\n",
      " #   Column        Non-Null Count   Dtype  \n",
      "---  ------        --------------   -----  \n",
      " 0   id            426880 non-null  int64  \n",
      " 1   url           426880 non-null  object \n",
      " 2   region        426880 non-null  object \n",
      " 3   region_url    426880 non-null  object \n",
      " 4   price         426880 non-null  int64  \n",
      " 5   year          425675 non-null  float64\n",
      " 6   manufacturer  409234 non-null  object \n",
      " 7   model         421603 non-null  object \n",
      " 8   condition     252776 non-null  object \n",
      " 9   cylinders     249202 non-null  object \n",
      " 10  fuel          423867 non-null  object \n",
      " 11  odometer      422480 non-null  float64\n",
      " 12  title_status  418638 non-null  object \n",
      " 13  transmission  424324 non-null  object \n",
      " 14  VIN           265838 non-null  object \n",
      " 15  drive         296313 non-null  object \n",
      " 16  size          120519 non-null  object \n",
      " 17  type          334022 non-null  object \n",
      " 18  paint_color   296677 non-null  object \n",
      " 19  image_url     426812 non-null  object \n",
      " 20  description   426810 non-null  object \n",
      " 21  county        0 non-null       float64\n",
      " 22  state         426880 non-null  object \n",
      " 23  lat           420331 non-null  float64\n",
      " 24  long          420331 non-null  float64\n",
      " 25  posting_date  426812 non-null  object \n",
      "dtypes: float64(5), int64(2), object(19)\n",
      "memory usage: 84.7+ MB\n"
     ]
    }
   ],
   "source": [
    "# Check for missing categories and different datatypes\n",
    "df_tmp.info()"
   ]
  },
  {
   "cell_type": "code",
   "execution_count": 18,
   "id": "9ee8ea73",
   "metadata": {},
   "outputs": [
    {
     "data": {
      "text/plain": [
       "id                   0\n",
       "url                  0\n",
       "region               0\n",
       "region_url           0\n",
       "price                0\n",
       "year              1205\n",
       "manufacturer     17646\n",
       "model             5277\n",
       "condition       174104\n",
       "cylinders       177678\n",
       "fuel              3013\n",
       "odometer          4400\n",
       "title_status      8242\n",
       "transmission      2556\n",
       "VIN             161042\n",
       "drive           130567\n",
       "size            306361\n",
       "type             92858\n",
       "paint_color     130203\n",
       "image_url           68\n",
       "description         70\n",
       "county          426880\n",
       "state                0\n",
       "lat               6549\n",
       "long              6549\n",
       "posting_date        68\n",
       "dtype: int64"
      ]
     },
     "execution_count": 18,
     "metadata": {},
     "output_type": "execute_result"
    }
   ],
   "source": [
    "# Check for missing values\n",
    "df_tmp.isna().sum()"
   ]
  },
  {
   "cell_type": "markdown",
   "id": "049334de",
   "metadata": {},
   "source": [
    "## Convert strings to categories\n",
    "One way to help turn all of the data into numbers is to convert the columns with the string datatype into a category datatype.\n",
    "\n",
    "To do this I can use the pandas types API which allows me to interact and manipulate the types of data."
   ]
  },
  {
   "cell_type": "code",
   "execution_count": 19,
   "id": "d4b71ad5",
   "metadata": {},
   "outputs": [
    {
     "data": {
      "text/html": [
       "<div>\n",
       "<style scoped>\n",
       "    .dataframe tbody tr th:only-of-type {\n",
       "        vertical-align: middle;\n",
       "    }\n",
       "\n",
       "    .dataframe tbody tr th {\n",
       "        vertical-align: top;\n",
       "    }\n",
       "\n",
       "    .dataframe thead th {\n",
       "        text-align: right;\n",
       "    }\n",
       "</style>\n",
       "<table border=\"1\" class=\"dataframe\">\n",
       "  <thead>\n",
       "    <tr style=\"text-align: right;\">\n",
       "      <th></th>\n",
       "      <th>426875</th>\n",
       "      <th>426876</th>\n",
       "      <th>426877</th>\n",
       "      <th>426878</th>\n",
       "      <th>426879</th>\n",
       "    </tr>\n",
       "  </thead>\n",
       "  <tbody>\n",
       "    <tr>\n",
       "      <th>id</th>\n",
       "      <td>7301591192</td>\n",
       "      <td>7301591187</td>\n",
       "      <td>7301591147</td>\n",
       "      <td>7301591140</td>\n",
       "      <td>7301591129</td>\n",
       "    </tr>\n",
       "    <tr>\n",
       "      <th>url</th>\n",
       "      <td>https://wyoming.craigslist.org/ctd/d/atlanta-2...</td>\n",
       "      <td>https://wyoming.craigslist.org/ctd/d/atlanta-2...</td>\n",
       "      <td>https://wyoming.craigslist.org/ctd/d/atlanta-2...</td>\n",
       "      <td>https://wyoming.craigslist.org/ctd/d/atlanta-2...</td>\n",
       "      <td>https://wyoming.craigslist.org/ctd/d/atlanta-2...</td>\n",
       "    </tr>\n",
       "    <tr>\n",
       "      <th>region</th>\n",
       "      <td>wyoming</td>\n",
       "      <td>wyoming</td>\n",
       "      <td>wyoming</td>\n",
       "      <td>wyoming</td>\n",
       "      <td>wyoming</td>\n",
       "    </tr>\n",
       "    <tr>\n",
       "      <th>region_url</th>\n",
       "      <td>https://wyoming.craigslist.org</td>\n",
       "      <td>https://wyoming.craigslist.org</td>\n",
       "      <td>https://wyoming.craigslist.org</td>\n",
       "      <td>https://wyoming.craigslist.org</td>\n",
       "      <td>https://wyoming.craigslist.org</td>\n",
       "    </tr>\n",
       "    <tr>\n",
       "      <th>price</th>\n",
       "      <td>23590</td>\n",
       "      <td>30590</td>\n",
       "      <td>34990</td>\n",
       "      <td>28990</td>\n",
       "      <td>30590</td>\n",
       "    </tr>\n",
       "    <tr>\n",
       "      <th>year</th>\n",
       "      <td>2019.0</td>\n",
       "      <td>2020.0</td>\n",
       "      <td>2020.0</td>\n",
       "      <td>2018.0</td>\n",
       "      <td>2019.0</td>\n",
       "    </tr>\n",
       "    <tr>\n",
       "      <th>manufacturer</th>\n",
       "      <td>nissan</td>\n",
       "      <td>volvo</td>\n",
       "      <td>cadillac</td>\n",
       "      <td>lexus</td>\n",
       "      <td>bmw</td>\n",
       "    </tr>\n",
       "    <tr>\n",
       "      <th>model</th>\n",
       "      <td>maxima s sedan 4d</td>\n",
       "      <td>s60 t5 momentum sedan 4d</td>\n",
       "      <td>xt4 sport suv 4d</td>\n",
       "      <td>es 350 sedan 4d</td>\n",
       "      <td>4 series 430i gran coupe</td>\n",
       "    </tr>\n",
       "    <tr>\n",
       "      <th>condition</th>\n",
       "      <td>good</td>\n",
       "      <td>good</td>\n",
       "      <td>good</td>\n",
       "      <td>good</td>\n",
       "      <td>good</td>\n",
       "    </tr>\n",
       "    <tr>\n",
       "      <th>cylinders</th>\n",
       "      <td>6 cylinders</td>\n",
       "      <td>NaN</td>\n",
       "      <td>NaN</td>\n",
       "      <td>6 cylinders</td>\n",
       "      <td>NaN</td>\n",
       "    </tr>\n",
       "    <tr>\n",
       "      <th>fuel</th>\n",
       "      <td>gas</td>\n",
       "      <td>gas</td>\n",
       "      <td>diesel</td>\n",
       "      <td>gas</td>\n",
       "      <td>gas</td>\n",
       "    </tr>\n",
       "    <tr>\n",
       "      <th>odometer</th>\n",
       "      <td>32226.0</td>\n",
       "      <td>12029.0</td>\n",
       "      <td>4174.0</td>\n",
       "      <td>30112.0</td>\n",
       "      <td>22716.0</td>\n",
       "    </tr>\n",
       "    <tr>\n",
       "      <th>title_status</th>\n",
       "      <td>clean</td>\n",
       "      <td>clean</td>\n",
       "      <td>clean</td>\n",
       "      <td>clean</td>\n",
       "      <td>clean</td>\n",
       "    </tr>\n",
       "    <tr>\n",
       "      <th>transmission</th>\n",
       "      <td>other</td>\n",
       "      <td>other</td>\n",
       "      <td>other</td>\n",
       "      <td>other</td>\n",
       "      <td>other</td>\n",
       "    </tr>\n",
       "    <tr>\n",
       "      <th>VIN</th>\n",
       "      <td>1N4AA6AV6KC367801</td>\n",
       "      <td>7JR102FKXLG042696</td>\n",
       "      <td>1GYFZFR46LF088296</td>\n",
       "      <td>58ABK1GG4JU103853</td>\n",
       "      <td>WBA4J1C58KBM14708</td>\n",
       "    </tr>\n",
       "    <tr>\n",
       "      <th>drive</th>\n",
       "      <td>fwd</td>\n",
       "      <td>fwd</td>\n",
       "      <td>NaN</td>\n",
       "      <td>fwd</td>\n",
       "      <td>rwd</td>\n",
       "    </tr>\n",
       "    <tr>\n",
       "      <th>size</th>\n",
       "      <td>NaN</td>\n",
       "      <td>NaN</td>\n",
       "      <td>NaN</td>\n",
       "      <td>NaN</td>\n",
       "      <td>NaN</td>\n",
       "    </tr>\n",
       "    <tr>\n",
       "      <th>type</th>\n",
       "      <td>sedan</td>\n",
       "      <td>sedan</td>\n",
       "      <td>hatchback</td>\n",
       "      <td>sedan</td>\n",
       "      <td>coupe</td>\n",
       "    </tr>\n",
       "    <tr>\n",
       "      <th>paint_color</th>\n",
       "      <td>NaN</td>\n",
       "      <td>red</td>\n",
       "      <td>white</td>\n",
       "      <td>silver</td>\n",
       "      <td>NaN</td>\n",
       "    </tr>\n",
       "    <tr>\n",
       "      <th>image_url</th>\n",
       "      <td>https://images.craigslist.org/00o0o_iiraFnHg8q...</td>\n",
       "      <td>https://images.craigslist.org/00x0x_15sbgnxCIS...</td>\n",
       "      <td>https://images.craigslist.org/00L0L_farM7bxnxR...</td>\n",
       "      <td>https://images.craigslist.org/00z0z_bKnIVGLkDT...</td>\n",
       "      <td>https://images.craigslist.org/00Y0Y_lEUocjyRxa...</td>\n",
       "    </tr>\n",
       "    <tr>\n",
       "      <th>description</th>\n",
       "      <td>Carvana is the safer way to buy a car During t...</td>\n",
       "      <td>Carvana is the safer way to buy a car During t...</td>\n",
       "      <td>Carvana is the safer way to buy a car During t...</td>\n",
       "      <td>Carvana is the safer way to buy a car During t...</td>\n",
       "      <td>Carvana is the safer way to buy a car During t...</td>\n",
       "    </tr>\n",
       "    <tr>\n",
       "      <th>county</th>\n",
       "      <td>NaN</td>\n",
       "      <td>NaN</td>\n",
       "      <td>NaN</td>\n",
       "      <td>NaN</td>\n",
       "      <td>NaN</td>\n",
       "    </tr>\n",
       "    <tr>\n",
       "      <th>state</th>\n",
       "      <td>wy</td>\n",
       "      <td>wy</td>\n",
       "      <td>wy</td>\n",
       "      <td>wy</td>\n",
       "      <td>wy</td>\n",
       "    </tr>\n",
       "    <tr>\n",
       "      <th>lat</th>\n",
       "      <td>33.7865</td>\n",
       "      <td>33.7865</td>\n",
       "      <td>33.779214</td>\n",
       "      <td>33.7865</td>\n",
       "      <td>33.779214</td>\n",
       "    </tr>\n",
       "    <tr>\n",
       "      <th>long</th>\n",
       "      <td>-84.4454</td>\n",
       "      <td>-84.4454</td>\n",
       "      <td>-84.411811</td>\n",
       "      <td>-84.4454</td>\n",
       "      <td>-84.411811</td>\n",
       "    </tr>\n",
       "    <tr>\n",
       "      <th>posting_date</th>\n",
       "      <td>2021-04-04T03:21:31-0600</td>\n",
       "      <td>2021-04-04T03:21:29-0600</td>\n",
       "      <td>2021-04-04T03:21:17-0600</td>\n",
       "      <td>2021-04-04T03:21:11-0600</td>\n",
       "      <td>2021-04-04T03:21:07-0600</td>\n",
       "    </tr>\n",
       "  </tbody>\n",
       "</table>\n",
       "</div>"
      ],
      "text/plain": [
       "                                                         426875  \\\n",
       "id                                                   7301591192   \n",
       "url           https://wyoming.craigslist.org/ctd/d/atlanta-2...   \n",
       "region                                                  wyoming   \n",
       "region_url                       https://wyoming.craigslist.org   \n",
       "price                                                     23590   \n",
       "year                                                     2019.0   \n",
       "manufacturer                                             nissan   \n",
       "model                                         maxima s sedan 4d   \n",
       "condition                                                  good   \n",
       "cylinders                                           6 cylinders   \n",
       "fuel                                                        gas   \n",
       "odometer                                                32226.0   \n",
       "title_status                                              clean   \n",
       "transmission                                              other   \n",
       "VIN                                           1N4AA6AV6KC367801   \n",
       "drive                                                       fwd   \n",
       "size                                                        NaN   \n",
       "type                                                      sedan   \n",
       "paint_color                                                 NaN   \n",
       "image_url     https://images.craigslist.org/00o0o_iiraFnHg8q...   \n",
       "description   Carvana is the safer way to buy a car During t...   \n",
       "county                                                      NaN   \n",
       "state                                                        wy   \n",
       "lat                                                     33.7865   \n",
       "long                                                   -84.4454   \n",
       "posting_date                           2021-04-04T03:21:31-0600   \n",
       "\n",
       "                                                         426876  \\\n",
       "id                                                   7301591187   \n",
       "url           https://wyoming.craigslist.org/ctd/d/atlanta-2...   \n",
       "region                                                  wyoming   \n",
       "region_url                       https://wyoming.craigslist.org   \n",
       "price                                                     30590   \n",
       "year                                                     2020.0   \n",
       "manufacturer                                              volvo   \n",
       "model                                  s60 t5 momentum sedan 4d   \n",
       "condition                                                  good   \n",
       "cylinders                                                   NaN   \n",
       "fuel                                                        gas   \n",
       "odometer                                                12029.0   \n",
       "title_status                                              clean   \n",
       "transmission                                              other   \n",
       "VIN                                           7JR102FKXLG042696   \n",
       "drive                                                       fwd   \n",
       "size                                                        NaN   \n",
       "type                                                      sedan   \n",
       "paint_color                                                 red   \n",
       "image_url     https://images.craigslist.org/00x0x_15sbgnxCIS...   \n",
       "description   Carvana is the safer way to buy a car During t...   \n",
       "county                                                      NaN   \n",
       "state                                                        wy   \n",
       "lat                                                     33.7865   \n",
       "long                                                   -84.4454   \n",
       "posting_date                           2021-04-04T03:21:29-0600   \n",
       "\n",
       "                                                         426877  \\\n",
       "id                                                   7301591147   \n",
       "url           https://wyoming.craigslist.org/ctd/d/atlanta-2...   \n",
       "region                                                  wyoming   \n",
       "region_url                       https://wyoming.craigslist.org   \n",
       "price                                                     34990   \n",
       "year                                                     2020.0   \n",
       "manufacturer                                           cadillac   \n",
       "model                                          xt4 sport suv 4d   \n",
       "condition                                                  good   \n",
       "cylinders                                                   NaN   \n",
       "fuel                                                     diesel   \n",
       "odometer                                                 4174.0   \n",
       "title_status                                              clean   \n",
       "transmission                                              other   \n",
       "VIN                                           1GYFZFR46LF088296   \n",
       "drive                                                       NaN   \n",
       "size                                                        NaN   \n",
       "type                                                  hatchback   \n",
       "paint_color                                               white   \n",
       "image_url     https://images.craigslist.org/00L0L_farM7bxnxR...   \n",
       "description   Carvana is the safer way to buy a car During t...   \n",
       "county                                                      NaN   \n",
       "state                                                        wy   \n",
       "lat                                                   33.779214   \n",
       "long                                                 -84.411811   \n",
       "posting_date                           2021-04-04T03:21:17-0600   \n",
       "\n",
       "                                                         426878  \\\n",
       "id                                                   7301591140   \n",
       "url           https://wyoming.craigslist.org/ctd/d/atlanta-2...   \n",
       "region                                                  wyoming   \n",
       "region_url                       https://wyoming.craigslist.org   \n",
       "price                                                     28990   \n",
       "year                                                     2018.0   \n",
       "manufacturer                                              lexus   \n",
       "model                                           es 350 sedan 4d   \n",
       "condition                                                  good   \n",
       "cylinders                                           6 cylinders   \n",
       "fuel                                                        gas   \n",
       "odometer                                                30112.0   \n",
       "title_status                                              clean   \n",
       "transmission                                              other   \n",
       "VIN                                           58ABK1GG4JU103853   \n",
       "drive                                                       fwd   \n",
       "size                                                        NaN   \n",
       "type                                                      sedan   \n",
       "paint_color                                              silver   \n",
       "image_url     https://images.craigslist.org/00z0z_bKnIVGLkDT...   \n",
       "description   Carvana is the safer way to buy a car During t...   \n",
       "county                                                      NaN   \n",
       "state                                                        wy   \n",
       "lat                                                     33.7865   \n",
       "long                                                   -84.4454   \n",
       "posting_date                           2021-04-04T03:21:11-0600   \n",
       "\n",
       "                                                         426879  \n",
       "id                                                   7301591129  \n",
       "url           https://wyoming.craigslist.org/ctd/d/atlanta-2...  \n",
       "region                                                  wyoming  \n",
       "region_url                       https://wyoming.craigslist.org  \n",
       "price                                                     30590  \n",
       "year                                                     2019.0  \n",
       "manufacturer                                                bmw  \n",
       "model                                  4 series 430i gran coupe  \n",
       "condition                                                  good  \n",
       "cylinders                                                   NaN  \n",
       "fuel                                                        gas  \n",
       "odometer                                                22716.0  \n",
       "title_status                                              clean  \n",
       "transmission                                              other  \n",
       "VIN                                           WBA4J1C58KBM14708  \n",
       "drive                                                       rwd  \n",
       "size                                                        NaN  \n",
       "type                                                      coupe  \n",
       "paint_color                                                 NaN  \n",
       "image_url     https://images.craigslist.org/00Y0Y_lEUocjyRxa...  \n",
       "description   Carvana is the safer way to buy a car During t...  \n",
       "county                                                      NaN  \n",
       "state                                                        wy  \n",
       "lat                                                   33.779214  \n",
       "long                                                 -84.411811  \n",
       "posting_date                           2021-04-04T03:21:07-0600  "
      ]
     },
     "execution_count": 19,
     "metadata": {},
     "output_type": "execute_result"
    }
   ],
   "source": [
    "df_tmp.tail().T"
   ]
  },
  {
   "cell_type": "code",
   "execution_count": 20,
   "id": "751abc66",
   "metadata": {},
   "outputs": [
    {
     "name": "stdout",
     "output_type": "stream",
     "text": [
      "url\n",
      "region\n",
      "region_url\n",
      "manufacturer\n",
      "model\n",
      "condition\n",
      "cylinders\n",
      "fuel\n",
      "title_status\n",
      "transmission\n",
      "VIN\n",
      "drive\n",
      "size\n",
      "type\n",
      "paint_color\n",
      "image_url\n",
      "description\n",
      "state\n",
      "posting_date\n"
     ]
    }
   ],
   "source": [
    "# These columns contain strings\n",
    "for label, content in df_tmp.items():\n",
    "    if pd.api.types.is_string_dtype(content):\n",
    "        print(label)"
   ]
  },
  {
   "cell_type": "code",
   "execution_count": 21,
   "id": "3a510a74",
   "metadata": {},
   "outputs": [],
   "source": [
    "# This will turn all of the string values into category values\n",
    "for label, content in df_tmp.items():\n",
    "    if pd.api.types.is_string_dtype(content):\n",
    "        df_tmp[label] = content.astype(\"category\").cat.as_ordered()"
   ]
  },
  {
   "cell_type": "code",
   "execution_count": 22,
   "id": "07ecd64a",
   "metadata": {},
   "outputs": [
    {
     "name": "stdout",
     "output_type": "stream",
     "text": [
      "<class 'pandas.core.frame.DataFrame'>\n",
      "RangeIndex: 426880 entries, 0 to 426879\n",
      "Data columns (total 26 columns):\n",
      " #   Column        Non-Null Count   Dtype   \n",
      "---  ------        --------------   -----   \n",
      " 0   id            426880 non-null  int64   \n",
      " 1   url           426880 non-null  category\n",
      " 2   region        426880 non-null  category\n",
      " 3   region_url    426880 non-null  category\n",
      " 4   price         426880 non-null  int64   \n",
      " 5   year          425675 non-null  float64 \n",
      " 6   manufacturer  409234 non-null  category\n",
      " 7   model         421603 non-null  category\n",
      " 8   condition     252776 non-null  category\n",
      " 9   cylinders     249202 non-null  category\n",
      " 10  fuel          423867 non-null  category\n",
      " 11  odometer      422480 non-null  float64 \n",
      " 12  title_status  418638 non-null  category\n",
      " 13  transmission  424324 non-null  category\n",
      " 14  VIN           265838 non-null  category\n",
      " 15  drive         296313 non-null  category\n",
      " 16  size          120519 non-null  category\n",
      " 17  type          334022 non-null  category\n",
      " 18  paint_color   296677 non-null  category\n",
      " 19  image_url     426812 non-null  category\n",
      " 20  description   426810 non-null  category\n",
      " 21  county        0 non-null       float64 \n",
      " 22  state         426880 non-null  category\n",
      " 23  lat           420331 non-null  float64 \n",
      " 24  long          420331 non-null  float64 \n",
      " 25  posting_date  426812 non-null  category\n",
      "dtypes: category(19), float64(5), int64(2)\n",
      "memory usage: 95.2 MB\n"
     ]
    }
   ],
   "source": [
    "df_tmp.info()"
   ]
  },
  {
   "cell_type": "code",
   "execution_count": 23,
   "id": "4b6705d9",
   "metadata": {},
   "outputs": [
    {
     "data": {
      "text/plain": [
       "Index(['SF bay area', 'abilene', 'akron / canton', 'albany', 'albuquerque',\n",
       "       'altoona-johnstown', 'amarillo', 'ames', 'anchorage / mat-su',\n",
       "       'ann arbor',\n",
       "       ...\n",
       "       'winchester', 'winston-salem', 'worcester / central MA', 'wyoming',\n",
       "       'yakima', 'york', 'youngstown', 'yuba-sutter', 'yuma',\n",
       "       'zanesville / cambridge'],\n",
       "      dtype='object', length=404)"
      ]
     },
     "execution_count": 23,
     "metadata": {},
     "output_type": "execute_result"
    }
   ],
   "source": [
    "df_tmp.region.cat.categories"
   ]
  },
  {
   "cell_type": "code",
   "execution_count": 24,
   "id": "63912b92",
   "metadata": {},
   "outputs": [
    {
     "data": {
      "text/plain": [
       "Index(['diesel', 'electric', 'gas', 'hybrid', 'other'], dtype='object')"
      ]
     },
     "execution_count": 24,
     "metadata": {},
     "output_type": "execute_result"
    }
   ],
   "source": [
    "df_tmp.fuel.cat.categories"
   ]
  },
  {
   "cell_type": "code",
   "execution_count": 25,
   "id": "82125e05",
   "metadata": {},
   "outputs": [
    {
     "data": {
      "text/plain": [
       "Index(['\"t\"',\n",
       "       '$362.47, $1000 down, oac, 2.9%apr $362.47,luxury low miles $1000 down, only 40k miles',\n",
       "       '%', '& altima', ''50 Business Coupe', ''99 H1 Hummer', '(210)',\n",
       "       '(300)', '(cng) 2500 express van', '(s)port (s)edan',\n",
       "       ...\n",
       "       'zl1 camaro', 'zr2 sonoma', 'zx2', 'Х5М', '​​sorento lx',\n",
       "       '♦ALL TADES WELCOME!♦', '♿', '♿ vmi', '𝓜𝓮𝓻𝓬𝓮𝓭𝓮𝓼 𝓫𝓮𝓷𝔃 𝓶𝓵 350',\n",
       "       '🔥GMC Sierra 1500 SLE🔥 4X4 🔥'],\n",
       "      dtype='object', length=29667)"
      ]
     },
     "execution_count": 25,
     "metadata": {},
     "output_type": "execute_result"
    }
   ],
   "source": [
    "df_tmp.model.cat.categories"
   ]
  },
  {
   "cell_type": "code",
   "execution_count": 26,
   "id": "c1a63da1",
   "metadata": {},
   "outputs": [
    {
     "name": "stdout",
     "output_type": "stream",
     "text": [
      "<class 'pandas.core.frame.DataFrame'>\n",
      "RangeIndex: 426880 entries, 0 to 426879\n",
      "Data columns (total 26 columns):\n",
      " #   Column        Non-Null Count   Dtype   \n",
      "---  ------        --------------   -----   \n",
      " 0   id            426880 non-null  int64   \n",
      " 1   url           426880 non-null  category\n",
      " 2   region        426880 non-null  category\n",
      " 3   region_url    426880 non-null  category\n",
      " 4   price         426880 non-null  int64   \n",
      " 5   year          425675 non-null  float64 \n",
      " 6   manufacturer  409234 non-null  category\n",
      " 7   model         421603 non-null  category\n",
      " 8   condition     252776 non-null  category\n",
      " 9   cylinders     249202 non-null  category\n",
      " 10  fuel          423867 non-null  category\n",
      " 11  odometer      422480 non-null  float64 \n",
      " 12  title_status  418638 non-null  category\n",
      " 13  transmission  424324 non-null  category\n",
      " 14  VIN           265838 non-null  category\n",
      " 15  drive         296313 non-null  category\n",
      " 16  size          120519 non-null  category\n",
      " 17  type          334022 non-null  category\n",
      " 18  paint_color   296677 non-null  category\n",
      " 19  image_url     426812 non-null  category\n",
      " 20  description   426810 non-null  category\n",
      " 21  county        0 non-null       float64 \n",
      " 22  state         426880 non-null  category\n",
      " 23  lat           420331 non-null  float64 \n",
      " 24  long          420331 non-null  float64 \n",
      " 25  posting_date  426812 non-null  category\n",
      "dtypes: category(19), float64(5), int64(2)\n",
      "memory usage: 95.2 MB\n"
     ]
    }
   ],
   "source": [
    "df_tmp.info()"
   ]
  },
  {
   "cell_type": "code",
   "execution_count": 27,
   "id": "9915acf6",
   "metadata": {},
   "outputs": [
    {
     "data": {
      "text/plain": [
       "Index(['ak', 'al', 'ar', 'az', 'ca', 'co', 'ct', 'dc', 'de', 'fl', 'ga', 'hi',\n",
       "       'ia', 'id', 'il', 'in', 'ks', 'ky', 'la', 'ma', 'md', 'me', 'mi', 'mn',\n",
       "       'mo', 'ms', 'mt', 'nc', 'nd', 'ne', 'nh', 'nj', 'nm', 'nv', 'ny', 'oh',\n",
       "       'ok', 'or', 'pa', 'ri', 'sc', 'sd', 'tn', 'tx', 'ut', 'va', 'vt', 'wa',\n",
       "       'wi', 'wv', 'wy'],\n",
       "      dtype='object')"
      ]
     },
     "execution_count": 27,
     "metadata": {},
     "output_type": "execute_result"
    }
   ],
   "source": [
    "df_tmp.state.cat.categories"
   ]
  },
  {
   "cell_type": "code",
   "execution_count": 28,
   "id": "7371fb27",
   "metadata": {},
   "outputs": [
    {
     "data": {
      "text/plain": [
       "0          3\n",
       "1          2\n",
       "2          9\n",
       "3         19\n",
       "4         27\n",
       "          ..\n",
       "426875    50\n",
       "426876    50\n",
       "426877    50\n",
       "426878    50\n",
       "426879    50\n",
       "Length: 426880, dtype: int8"
      ]
     },
     "execution_count": 28,
     "metadata": {},
     "output_type": "execute_result"
    }
   ],
   "source": [
    "df_tmp.state.cat.codes"
   ]
  },
  {
   "cell_type": "code",
   "execution_count": 29,
   "id": "714d87af",
   "metadata": {},
   "outputs": [
    {
     "data": {
      "text/plain": [
       "id              0.000000\n",
       "url             0.000000\n",
       "region          0.000000\n",
       "region_url      0.000000\n",
       "price           0.000000\n",
       "year            0.002823\n",
       "manufacturer    0.041337\n",
       "model           0.012362\n",
       "condition       0.407852\n",
       "cylinders       0.416225\n",
       "fuel            0.007058\n",
       "odometer        0.010307\n",
       "title_status    0.019308\n",
       "transmission    0.005988\n",
       "VIN             0.377254\n",
       "drive           0.305863\n",
       "size            0.717675\n",
       "type            0.217527\n",
       "paint_color     0.305011\n",
       "image_url       0.000159\n",
       "description     0.000164\n",
       "county          1.000000\n",
       "state           0.000000\n",
       "lat             0.015342\n",
       "long            0.015342\n",
       "posting_date    0.000159\n",
       "dtype: float64"
      ]
     },
     "execution_count": 29,
     "metadata": {},
     "output_type": "execute_result"
    }
   ],
   "source": [
    "df_tmp.isnull().sum()/len(df_tmp)"
   ]
  },
  {
   "cell_type": "code",
   "execution_count": 30,
   "id": "a8690891",
   "metadata": {},
   "outputs": [],
   "source": [
    "# Save preprocessed data\n",
    "df_tmp.to_csv(\"used_car_price_train_tmp.csv\",\n",
    "              index=False)"
   ]
  },
  {
   "cell_type": "code",
   "execution_count": 32,
   "id": "60a9f623",
   "metadata": {},
   "outputs": [
    {
     "data": {
      "text/html": [
       "<div>\n",
       "<style scoped>\n",
       "    .dataframe tbody tr th:only-of-type {\n",
       "        vertical-align: middle;\n",
       "    }\n",
       "\n",
       "    .dataframe tbody tr th {\n",
       "        vertical-align: top;\n",
       "    }\n",
       "\n",
       "    .dataframe thead th {\n",
       "        text-align: right;\n",
       "    }\n",
       "</style>\n",
       "<table border=\"1\" class=\"dataframe\">\n",
       "  <thead>\n",
       "    <tr style=\"text-align: right;\">\n",
       "      <th></th>\n",
       "      <th>426875</th>\n",
       "      <th>426876</th>\n",
       "      <th>426877</th>\n",
       "      <th>426878</th>\n",
       "      <th>426879</th>\n",
       "    </tr>\n",
       "  </thead>\n",
       "  <tbody>\n",
       "    <tr>\n",
       "      <th>id</th>\n",
       "      <td>7301591192</td>\n",
       "      <td>7301591187</td>\n",
       "      <td>7301591147</td>\n",
       "      <td>7301591140</td>\n",
       "      <td>7301591129</td>\n",
       "    </tr>\n",
       "    <tr>\n",
       "      <th>url</th>\n",
       "      <td>https://wyoming.craigslist.org/ctd/d/atlanta-2...</td>\n",
       "      <td>https://wyoming.craigslist.org/ctd/d/atlanta-2...</td>\n",
       "      <td>https://wyoming.craigslist.org/ctd/d/atlanta-2...</td>\n",
       "      <td>https://wyoming.craigslist.org/ctd/d/atlanta-2...</td>\n",
       "      <td>https://wyoming.craigslist.org/ctd/d/atlanta-2...</td>\n",
       "    </tr>\n",
       "    <tr>\n",
       "      <th>region</th>\n",
       "      <td>wyoming</td>\n",
       "      <td>wyoming</td>\n",
       "      <td>wyoming</td>\n",
       "      <td>wyoming</td>\n",
       "      <td>wyoming</td>\n",
       "    </tr>\n",
       "    <tr>\n",
       "      <th>region_url</th>\n",
       "      <td>https://wyoming.craigslist.org</td>\n",
       "      <td>https://wyoming.craigslist.org</td>\n",
       "      <td>https://wyoming.craigslist.org</td>\n",
       "      <td>https://wyoming.craigslist.org</td>\n",
       "      <td>https://wyoming.craigslist.org</td>\n",
       "    </tr>\n",
       "    <tr>\n",
       "      <th>price</th>\n",
       "      <td>23590</td>\n",
       "      <td>30590</td>\n",
       "      <td>34990</td>\n",
       "      <td>28990</td>\n",
       "      <td>30590</td>\n",
       "    </tr>\n",
       "    <tr>\n",
       "      <th>year</th>\n",
       "      <td>2019.0</td>\n",
       "      <td>2020.0</td>\n",
       "      <td>2020.0</td>\n",
       "      <td>2018.0</td>\n",
       "      <td>2019.0</td>\n",
       "    </tr>\n",
       "    <tr>\n",
       "      <th>manufacturer</th>\n",
       "      <td>nissan</td>\n",
       "      <td>volvo</td>\n",
       "      <td>cadillac</td>\n",
       "      <td>lexus</td>\n",
       "      <td>bmw</td>\n",
       "    </tr>\n",
       "    <tr>\n",
       "      <th>model</th>\n",
       "      <td>maxima s sedan 4d</td>\n",
       "      <td>s60 t5 momentum sedan 4d</td>\n",
       "      <td>xt4 sport suv 4d</td>\n",
       "      <td>es 350 sedan 4d</td>\n",
       "      <td>4 series 430i gran coupe</td>\n",
       "    </tr>\n",
       "    <tr>\n",
       "      <th>condition</th>\n",
       "      <td>good</td>\n",
       "      <td>good</td>\n",
       "      <td>good</td>\n",
       "      <td>good</td>\n",
       "      <td>good</td>\n",
       "    </tr>\n",
       "    <tr>\n",
       "      <th>cylinders</th>\n",
       "      <td>6 cylinders</td>\n",
       "      <td>NaN</td>\n",
       "      <td>NaN</td>\n",
       "      <td>6 cylinders</td>\n",
       "      <td>NaN</td>\n",
       "    </tr>\n",
       "    <tr>\n",
       "      <th>fuel</th>\n",
       "      <td>gas</td>\n",
       "      <td>gas</td>\n",
       "      <td>diesel</td>\n",
       "      <td>gas</td>\n",
       "      <td>gas</td>\n",
       "    </tr>\n",
       "    <tr>\n",
       "      <th>odometer</th>\n",
       "      <td>32226.0</td>\n",
       "      <td>12029.0</td>\n",
       "      <td>4174.0</td>\n",
       "      <td>30112.0</td>\n",
       "      <td>22716.0</td>\n",
       "    </tr>\n",
       "    <tr>\n",
       "      <th>title_status</th>\n",
       "      <td>clean</td>\n",
       "      <td>clean</td>\n",
       "      <td>clean</td>\n",
       "      <td>clean</td>\n",
       "      <td>clean</td>\n",
       "    </tr>\n",
       "    <tr>\n",
       "      <th>transmission</th>\n",
       "      <td>other</td>\n",
       "      <td>other</td>\n",
       "      <td>other</td>\n",
       "      <td>other</td>\n",
       "      <td>other</td>\n",
       "    </tr>\n",
       "    <tr>\n",
       "      <th>VIN</th>\n",
       "      <td>1N4AA6AV6KC367801</td>\n",
       "      <td>7JR102FKXLG042696</td>\n",
       "      <td>1GYFZFR46LF088296</td>\n",
       "      <td>58ABK1GG4JU103853</td>\n",
       "      <td>WBA4J1C58KBM14708</td>\n",
       "    </tr>\n",
       "    <tr>\n",
       "      <th>drive</th>\n",
       "      <td>fwd</td>\n",
       "      <td>fwd</td>\n",
       "      <td>NaN</td>\n",
       "      <td>fwd</td>\n",
       "      <td>rwd</td>\n",
       "    </tr>\n",
       "    <tr>\n",
       "      <th>size</th>\n",
       "      <td>NaN</td>\n",
       "      <td>NaN</td>\n",
       "      <td>NaN</td>\n",
       "      <td>NaN</td>\n",
       "      <td>NaN</td>\n",
       "    </tr>\n",
       "    <tr>\n",
       "      <th>type</th>\n",
       "      <td>sedan</td>\n",
       "      <td>sedan</td>\n",
       "      <td>hatchback</td>\n",
       "      <td>sedan</td>\n",
       "      <td>coupe</td>\n",
       "    </tr>\n",
       "    <tr>\n",
       "      <th>paint_color</th>\n",
       "      <td>NaN</td>\n",
       "      <td>red</td>\n",
       "      <td>white</td>\n",
       "      <td>silver</td>\n",
       "      <td>NaN</td>\n",
       "    </tr>\n",
       "    <tr>\n",
       "      <th>image_url</th>\n",
       "      <td>https://images.craigslist.org/00o0o_iiraFnHg8q...</td>\n",
       "      <td>https://images.craigslist.org/00x0x_15sbgnxCIS...</td>\n",
       "      <td>https://images.craigslist.org/00L0L_farM7bxnxR...</td>\n",
       "      <td>https://images.craigslist.org/00z0z_bKnIVGLkDT...</td>\n",
       "      <td>https://images.craigslist.org/00Y0Y_lEUocjyRxa...</td>\n",
       "    </tr>\n",
       "    <tr>\n",
       "      <th>description</th>\n",
       "      <td>Carvana is the safer way to buy a car During t...</td>\n",
       "      <td>Carvana is the safer way to buy a car During t...</td>\n",
       "      <td>Carvana is the safer way to buy a car During t...</td>\n",
       "      <td>Carvana is the safer way to buy a car During t...</td>\n",
       "      <td>Carvana is the safer way to buy a car During t...</td>\n",
       "    </tr>\n",
       "    <tr>\n",
       "      <th>county</th>\n",
       "      <td>NaN</td>\n",
       "      <td>NaN</td>\n",
       "      <td>NaN</td>\n",
       "      <td>NaN</td>\n",
       "      <td>NaN</td>\n",
       "    </tr>\n",
       "    <tr>\n",
       "      <th>state</th>\n",
       "      <td>wy</td>\n",
       "      <td>wy</td>\n",
       "      <td>wy</td>\n",
       "      <td>wy</td>\n",
       "      <td>wy</td>\n",
       "    </tr>\n",
       "    <tr>\n",
       "      <th>lat</th>\n",
       "      <td>33.7865</td>\n",
       "      <td>33.7865</td>\n",
       "      <td>33.779214</td>\n",
       "      <td>33.7865</td>\n",
       "      <td>33.779214</td>\n",
       "    </tr>\n",
       "    <tr>\n",
       "      <th>long</th>\n",
       "      <td>-84.4454</td>\n",
       "      <td>-84.4454</td>\n",
       "      <td>-84.411811</td>\n",
       "      <td>-84.4454</td>\n",
       "      <td>-84.411811</td>\n",
       "    </tr>\n",
       "    <tr>\n",
       "      <th>posting_date</th>\n",
       "      <td>2021-04-04T03:21:31-0600</td>\n",
       "      <td>2021-04-04T03:21:29-0600</td>\n",
       "      <td>2021-04-04T03:21:17-0600</td>\n",
       "      <td>2021-04-04T03:21:11-0600</td>\n",
       "      <td>2021-04-04T03:21:07-0600</td>\n",
       "    </tr>\n",
       "  </tbody>\n",
       "</table>\n",
       "</div>"
      ],
      "text/plain": [
       "                                                         426875  \\\n",
       "id                                                   7301591192   \n",
       "url           https://wyoming.craigslist.org/ctd/d/atlanta-2...   \n",
       "region                                                  wyoming   \n",
       "region_url                       https://wyoming.craigslist.org   \n",
       "price                                                     23590   \n",
       "year                                                     2019.0   \n",
       "manufacturer                                             nissan   \n",
       "model                                         maxima s sedan 4d   \n",
       "condition                                                  good   \n",
       "cylinders                                           6 cylinders   \n",
       "fuel                                                        gas   \n",
       "odometer                                                32226.0   \n",
       "title_status                                              clean   \n",
       "transmission                                              other   \n",
       "VIN                                           1N4AA6AV6KC367801   \n",
       "drive                                                       fwd   \n",
       "size                                                        NaN   \n",
       "type                                                      sedan   \n",
       "paint_color                                                 NaN   \n",
       "image_url     https://images.craigslist.org/00o0o_iiraFnHg8q...   \n",
       "description   Carvana is the safer way to buy a car During t...   \n",
       "county                                                      NaN   \n",
       "state                                                        wy   \n",
       "lat                                                     33.7865   \n",
       "long                                                   -84.4454   \n",
       "posting_date                           2021-04-04T03:21:31-0600   \n",
       "\n",
       "                                                         426876  \\\n",
       "id                                                   7301591187   \n",
       "url           https://wyoming.craigslist.org/ctd/d/atlanta-2...   \n",
       "region                                                  wyoming   \n",
       "region_url                       https://wyoming.craigslist.org   \n",
       "price                                                     30590   \n",
       "year                                                     2020.0   \n",
       "manufacturer                                              volvo   \n",
       "model                                  s60 t5 momentum sedan 4d   \n",
       "condition                                                  good   \n",
       "cylinders                                                   NaN   \n",
       "fuel                                                        gas   \n",
       "odometer                                                12029.0   \n",
       "title_status                                              clean   \n",
       "transmission                                              other   \n",
       "VIN                                           7JR102FKXLG042696   \n",
       "drive                                                       fwd   \n",
       "size                                                        NaN   \n",
       "type                                                      sedan   \n",
       "paint_color                                                 red   \n",
       "image_url     https://images.craigslist.org/00x0x_15sbgnxCIS...   \n",
       "description   Carvana is the safer way to buy a car During t...   \n",
       "county                                                      NaN   \n",
       "state                                                        wy   \n",
       "lat                                                     33.7865   \n",
       "long                                                   -84.4454   \n",
       "posting_date                           2021-04-04T03:21:29-0600   \n",
       "\n",
       "                                                         426877  \\\n",
       "id                                                   7301591147   \n",
       "url           https://wyoming.craigslist.org/ctd/d/atlanta-2...   \n",
       "region                                                  wyoming   \n",
       "region_url                       https://wyoming.craigslist.org   \n",
       "price                                                     34990   \n",
       "year                                                     2020.0   \n",
       "manufacturer                                           cadillac   \n",
       "model                                          xt4 sport suv 4d   \n",
       "condition                                                  good   \n",
       "cylinders                                                   NaN   \n",
       "fuel                                                     diesel   \n",
       "odometer                                                 4174.0   \n",
       "title_status                                              clean   \n",
       "transmission                                              other   \n",
       "VIN                                           1GYFZFR46LF088296   \n",
       "drive                                                       NaN   \n",
       "size                                                        NaN   \n",
       "type                                                  hatchback   \n",
       "paint_color                                               white   \n",
       "image_url     https://images.craigslist.org/00L0L_farM7bxnxR...   \n",
       "description   Carvana is the safer way to buy a car During t...   \n",
       "county                                                      NaN   \n",
       "state                                                        wy   \n",
       "lat                                                   33.779214   \n",
       "long                                                 -84.411811   \n",
       "posting_date                           2021-04-04T03:21:17-0600   \n",
       "\n",
       "                                                         426878  \\\n",
       "id                                                   7301591140   \n",
       "url           https://wyoming.craigslist.org/ctd/d/atlanta-2...   \n",
       "region                                                  wyoming   \n",
       "region_url                       https://wyoming.craigslist.org   \n",
       "price                                                     28990   \n",
       "year                                                     2018.0   \n",
       "manufacturer                                              lexus   \n",
       "model                                           es 350 sedan 4d   \n",
       "condition                                                  good   \n",
       "cylinders                                           6 cylinders   \n",
       "fuel                                                        gas   \n",
       "odometer                                                30112.0   \n",
       "title_status                                              clean   \n",
       "transmission                                              other   \n",
       "VIN                                           58ABK1GG4JU103853   \n",
       "drive                                                       fwd   \n",
       "size                                                        NaN   \n",
       "type                                                      sedan   \n",
       "paint_color                                              silver   \n",
       "image_url     https://images.craigslist.org/00z0z_bKnIVGLkDT...   \n",
       "description   Carvana is the safer way to buy a car During t...   \n",
       "county                                                      NaN   \n",
       "state                                                        wy   \n",
       "lat                                                     33.7865   \n",
       "long                                                   -84.4454   \n",
       "posting_date                           2021-04-04T03:21:11-0600   \n",
       "\n",
       "                                                         426879  \n",
       "id                                                   7301591129  \n",
       "url           https://wyoming.craigslist.org/ctd/d/atlanta-2...  \n",
       "region                                                  wyoming  \n",
       "region_url                       https://wyoming.craigslist.org  \n",
       "price                                                     30590  \n",
       "year                                                     2019.0  \n",
       "manufacturer                                                bmw  \n",
       "model                                  4 series 430i gran coupe  \n",
       "condition                                                  good  \n",
       "cylinders                                                   NaN  \n",
       "fuel                                                        gas  \n",
       "odometer                                                22716.0  \n",
       "title_status                                              clean  \n",
       "transmission                                              other  \n",
       "VIN                                           WBA4J1C58KBM14708  \n",
       "drive                                                       rwd  \n",
       "size                                                        NaN  \n",
       "type                                                      coupe  \n",
       "paint_color                                                 NaN  \n",
       "image_url     https://images.craigslist.org/00Y0Y_lEUocjyRxa...  \n",
       "description   Carvana is the safer way to buy a car During t...  \n",
       "county                                                      NaN  \n",
       "state                                                        wy  \n",
       "lat                                                   33.779214  \n",
       "long                                                 -84.411811  \n",
       "posting_date                           2021-04-04T03:21:07-0600  "
      ]
     },
     "execution_count": 32,
     "metadata": {},
     "output_type": "execute_result"
    }
   ],
   "source": [
    "# Import preprocessed data\n",
    "df_tmp = pd.read_csv(\"used_car_price_train_tmp.csv\",\n",
    "                     low_memory=False)\n",
    "df_tmp.tail().T"
   ]
  },
  {
   "cell_type": "markdown",
   "id": "a90d687d",
   "metadata": {},
   "source": [
    "## The processed DataFrame has the columns I added to it but it's still missing values."
   ]
  },
  {
   "cell_type": "code",
   "execution_count": 33,
   "id": "68209643",
   "metadata": {},
   "outputs": [
    {
     "data": {
      "text/plain": [
       "id                   0\n",
       "url                  0\n",
       "region               0\n",
       "region_url           0\n",
       "price                0\n",
       "year              1205\n",
       "manufacturer     17646\n",
       "model             5277\n",
       "condition       174104\n",
       "cylinders       177678\n",
       "fuel              3013\n",
       "odometer          4400\n",
       "title_status      8242\n",
       "transmission      2556\n",
       "VIN             161042\n",
       "drive           130567\n",
       "size            306361\n",
       "type             92858\n",
       "paint_color     130203\n",
       "image_url           68\n",
       "description         70\n",
       "county          426880\n",
       "state                0\n",
       "lat               6549\n",
       "long              6549\n",
       "posting_date        68\n",
       "dtype: int64"
      ]
     },
     "execution_count": 33,
     "metadata": {},
     "output_type": "execute_result"
    }
   ],
   "source": [
    "# Check missing values\n",
    "df_tmp.isna().sum()"
   ]
  },
  {
   "cell_type": "markdown",
   "id": "13348c1b",
   "metadata": {},
   "source": [
    "## Fill missing values\n",
    "Knowing two things:\n",
    "\n",
    "1. All of the data has to be numerical\n",
    "2. There can't be any missing values\n",
    "\n",
    "And as I've seen using df_tmp.isna().sum() the data still has plenty of missing values.\n",
    "\n",
    "Let's fill them.\n",
    "\n",
    "## Filling numerical values first\n",
    "Going to fill any column with missing values with the median of that column."
   ]
  },
  {
   "cell_type": "code",
   "execution_count": 34,
   "id": "ab779875",
   "metadata": {},
   "outputs": [
    {
     "name": "stdout",
     "output_type": "stream",
     "text": [
      "id\n",
      "price\n",
      "year\n",
      "odometer\n",
      "county\n",
      "lat\n",
      "long\n"
     ]
    }
   ],
   "source": [
    "for label, content in df_tmp.items():\n",
    "    if pd.api.types.is_numeric_dtype(content):\n",
    "        print(label)"
   ]
  },
  {
   "cell_type": "code",
   "execution_count": 35,
   "id": "e80dc50e",
   "metadata": {},
   "outputs": [
    {
     "name": "stdout",
     "output_type": "stream",
     "text": [
      "year\n",
      "odometer\n",
      "county\n",
      "lat\n",
      "long\n"
     ]
    }
   ],
   "source": [
    "# Check for which numeric columns have null values\n",
    "for label, content in df_tmp.items():\n",
    "    if pd.api.types.is_numeric_dtype(content):\n",
    "        if pd.isnull(content).sum():\n",
    "            print(label)"
   ]
  },
  {
   "cell_type": "code",
   "execution_count": 36,
   "id": "569d6b14",
   "metadata": {},
   "outputs": [],
   "source": [
    "# Fill numeric rows with the median\n",
    "for label, content in df_tmp.items():\n",
    "    if pd.api.types.is_numeric_dtype(content):\n",
    "        if pd.isnull(content).sum():\n",
    "            # Add a binary column which tells if the data was missing our not\n",
    "            df_tmp[label+\"_is_missing\"] = pd.isnull(content)\n",
    "            # Fill missing numeric values with median since it's more robust than the mean\n",
    "            df_tmp[label] = content.fillna(content.median())"
   ]
  },
  {
   "cell_type": "markdown",
   "id": "0cfcaad6",
   "metadata": {},
   "source": [
    "Adding a binary column indicating whether the data was missing.\n",
    "\n",
    "Filling all of the missing numeric values in the dataset with the median. However, a numeric value may be missing for a reason. In other words, absence of evidence may be evidence of absence. Adding a binary column which indicates whether the value was missing or not helps to retain this information."
   ]
  },
  {
   "cell_type": "code",
   "execution_count": 37,
   "id": "0fb17b0b",
   "metadata": {},
   "outputs": [
    {
     "name": "stdout",
     "output_type": "stream",
     "text": [
      "county\n"
     ]
    }
   ],
   "source": [
    "# Check if there's any null values\n",
    "for label, content in df_tmp.items():\n",
    "    if pd.api.types.is_numeric_dtype(content):\n",
    "        if pd.isnull(content).sum():\n",
    "            print(label)"
   ]
  },
  {
   "cell_type": "code",
   "execution_count": 38,
   "id": "e962188d",
   "metadata": {},
   "outputs": [
    {
     "data": {
      "text/plain": [
       "True    426880\n",
       "Name: county_is_missing, dtype: int64"
      ]
     },
     "execution_count": 38,
     "metadata": {},
     "output_type": "execute_result"
    }
   ],
   "source": [
    "# Check to see how many examples were missing\n",
    "df_tmp.county_is_missing.value_counts()"
   ]
  },
  {
   "cell_type": "code",
   "execution_count": 39,
   "id": "3f607578",
   "metadata": {},
   "outputs": [
    {
     "data": {
      "text/plain": [
       "False    425675\n",
       "True       1205\n",
       "Name: year_is_missing, dtype: int64"
      ]
     },
     "execution_count": 39,
     "metadata": {},
     "output_type": "execute_result"
    }
   ],
   "source": [
    "df_tmp.year_is_missing.value_counts()"
   ]
  },
  {
   "cell_type": "markdown",
   "id": "3a808932",
   "metadata": {},
   "source": [
    "## There is nothing in column of \"county\" will remove that entirely."
   ]
  },
  {
   "cell_type": "code",
   "execution_count": 40,
   "id": "0e0afa98",
   "metadata": {},
   "outputs": [],
   "source": [
    "# Removing \"county\" column from data\n",
    "df_tmp = df.drop(\"county\", axis=1)"
   ]
  },
  {
   "cell_type": "code",
   "execution_count": 41,
   "id": "c9f85441",
   "metadata": {},
   "outputs": [
    {
     "data": {
      "text/html": [
       "<div>\n",
       "<style scoped>\n",
       "    .dataframe tbody tr th:only-of-type {\n",
       "        vertical-align: middle;\n",
       "    }\n",
       "\n",
       "    .dataframe tbody tr th {\n",
       "        vertical-align: top;\n",
       "    }\n",
       "\n",
       "    .dataframe thead th {\n",
       "        text-align: right;\n",
       "    }\n",
       "</style>\n",
       "<table border=\"1\" class=\"dataframe\">\n",
       "  <thead>\n",
       "    <tr style=\"text-align: right;\">\n",
       "      <th></th>\n",
       "      <th>id</th>\n",
       "      <th>url</th>\n",
       "      <th>region</th>\n",
       "      <th>region_url</th>\n",
       "      <th>price</th>\n",
       "      <th>year</th>\n",
       "      <th>manufacturer</th>\n",
       "      <th>model</th>\n",
       "      <th>condition</th>\n",
       "      <th>cylinders</th>\n",
       "      <th>...</th>\n",
       "      <th>drive</th>\n",
       "      <th>size</th>\n",
       "      <th>type</th>\n",
       "      <th>paint_color</th>\n",
       "      <th>image_url</th>\n",
       "      <th>description</th>\n",
       "      <th>state</th>\n",
       "      <th>lat</th>\n",
       "      <th>long</th>\n",
       "      <th>posting_date</th>\n",
       "    </tr>\n",
       "  </thead>\n",
       "  <tbody>\n",
       "    <tr>\n",
       "      <th>426875</th>\n",
       "      <td>7301591192</td>\n",
       "      <td>https://wyoming.craigslist.org/ctd/d/atlanta-2...</td>\n",
       "      <td>wyoming</td>\n",
       "      <td>https://wyoming.craigslist.org</td>\n",
       "      <td>23590</td>\n",
       "      <td>2019.0</td>\n",
       "      <td>nissan</td>\n",
       "      <td>maxima s sedan 4d</td>\n",
       "      <td>good</td>\n",
       "      <td>6 cylinders</td>\n",
       "      <td>...</td>\n",
       "      <td>fwd</td>\n",
       "      <td>NaN</td>\n",
       "      <td>sedan</td>\n",
       "      <td>NaN</td>\n",
       "      <td>https://images.craigslist.org/00o0o_iiraFnHg8q...</td>\n",
       "      <td>Carvana is the safer way to buy a car During t...</td>\n",
       "      <td>wy</td>\n",
       "      <td>33.786500</td>\n",
       "      <td>-84.445400</td>\n",
       "      <td>2021-04-04T03:21:31-0600</td>\n",
       "    </tr>\n",
       "    <tr>\n",
       "      <th>426876</th>\n",
       "      <td>7301591187</td>\n",
       "      <td>https://wyoming.craigslist.org/ctd/d/atlanta-2...</td>\n",
       "      <td>wyoming</td>\n",
       "      <td>https://wyoming.craigslist.org</td>\n",
       "      <td>30590</td>\n",
       "      <td>2020.0</td>\n",
       "      <td>volvo</td>\n",
       "      <td>s60 t5 momentum sedan 4d</td>\n",
       "      <td>good</td>\n",
       "      <td>NaN</td>\n",
       "      <td>...</td>\n",
       "      <td>fwd</td>\n",
       "      <td>NaN</td>\n",
       "      <td>sedan</td>\n",
       "      <td>red</td>\n",
       "      <td>https://images.craigslist.org/00x0x_15sbgnxCIS...</td>\n",
       "      <td>Carvana is the safer way to buy a car During t...</td>\n",
       "      <td>wy</td>\n",
       "      <td>33.786500</td>\n",
       "      <td>-84.445400</td>\n",
       "      <td>2021-04-04T03:21:29-0600</td>\n",
       "    </tr>\n",
       "    <tr>\n",
       "      <th>426877</th>\n",
       "      <td>7301591147</td>\n",
       "      <td>https://wyoming.craigslist.org/ctd/d/atlanta-2...</td>\n",
       "      <td>wyoming</td>\n",
       "      <td>https://wyoming.craigslist.org</td>\n",
       "      <td>34990</td>\n",
       "      <td>2020.0</td>\n",
       "      <td>cadillac</td>\n",
       "      <td>xt4 sport suv 4d</td>\n",
       "      <td>good</td>\n",
       "      <td>NaN</td>\n",
       "      <td>...</td>\n",
       "      <td>NaN</td>\n",
       "      <td>NaN</td>\n",
       "      <td>hatchback</td>\n",
       "      <td>white</td>\n",
       "      <td>https://images.craigslist.org/00L0L_farM7bxnxR...</td>\n",
       "      <td>Carvana is the safer way to buy a car During t...</td>\n",
       "      <td>wy</td>\n",
       "      <td>33.779214</td>\n",
       "      <td>-84.411811</td>\n",
       "      <td>2021-04-04T03:21:17-0600</td>\n",
       "    </tr>\n",
       "    <tr>\n",
       "      <th>426878</th>\n",
       "      <td>7301591140</td>\n",
       "      <td>https://wyoming.craigslist.org/ctd/d/atlanta-2...</td>\n",
       "      <td>wyoming</td>\n",
       "      <td>https://wyoming.craigslist.org</td>\n",
       "      <td>28990</td>\n",
       "      <td>2018.0</td>\n",
       "      <td>lexus</td>\n",
       "      <td>es 350 sedan 4d</td>\n",
       "      <td>good</td>\n",
       "      <td>6 cylinders</td>\n",
       "      <td>...</td>\n",
       "      <td>fwd</td>\n",
       "      <td>NaN</td>\n",
       "      <td>sedan</td>\n",
       "      <td>silver</td>\n",
       "      <td>https://images.craigslist.org/00z0z_bKnIVGLkDT...</td>\n",
       "      <td>Carvana is the safer way to buy a car During t...</td>\n",
       "      <td>wy</td>\n",
       "      <td>33.786500</td>\n",
       "      <td>-84.445400</td>\n",
       "      <td>2021-04-04T03:21:11-0600</td>\n",
       "    </tr>\n",
       "    <tr>\n",
       "      <th>426879</th>\n",
       "      <td>7301591129</td>\n",
       "      <td>https://wyoming.craigslist.org/ctd/d/atlanta-2...</td>\n",
       "      <td>wyoming</td>\n",
       "      <td>https://wyoming.craigslist.org</td>\n",
       "      <td>30590</td>\n",
       "      <td>2019.0</td>\n",
       "      <td>bmw</td>\n",
       "      <td>4 series 430i gran coupe</td>\n",
       "      <td>good</td>\n",
       "      <td>NaN</td>\n",
       "      <td>...</td>\n",
       "      <td>rwd</td>\n",
       "      <td>NaN</td>\n",
       "      <td>coupe</td>\n",
       "      <td>NaN</td>\n",
       "      <td>https://images.craigslist.org/00Y0Y_lEUocjyRxa...</td>\n",
       "      <td>Carvana is the safer way to buy a car During t...</td>\n",
       "      <td>wy</td>\n",
       "      <td>33.779214</td>\n",
       "      <td>-84.411811</td>\n",
       "      <td>2021-04-04T03:21:07-0600</td>\n",
       "    </tr>\n",
       "  </tbody>\n",
       "</table>\n",
       "<p>5 rows × 25 columns</p>\n",
       "</div>"
      ],
      "text/plain": [
       "                id                                                url  \\\n",
       "426875  7301591192  https://wyoming.craigslist.org/ctd/d/atlanta-2...   \n",
       "426876  7301591187  https://wyoming.craigslist.org/ctd/d/atlanta-2...   \n",
       "426877  7301591147  https://wyoming.craigslist.org/ctd/d/atlanta-2...   \n",
       "426878  7301591140  https://wyoming.craigslist.org/ctd/d/atlanta-2...   \n",
       "426879  7301591129  https://wyoming.craigslist.org/ctd/d/atlanta-2...   \n",
       "\n",
       "         region                      region_url  price    year manufacturer  \\\n",
       "426875  wyoming  https://wyoming.craigslist.org  23590  2019.0       nissan   \n",
       "426876  wyoming  https://wyoming.craigslist.org  30590  2020.0        volvo   \n",
       "426877  wyoming  https://wyoming.craigslist.org  34990  2020.0     cadillac   \n",
       "426878  wyoming  https://wyoming.craigslist.org  28990  2018.0        lexus   \n",
       "426879  wyoming  https://wyoming.craigslist.org  30590  2019.0          bmw   \n",
       "\n",
       "                           model condition    cylinders  ... drive  size  \\\n",
       "426875         maxima s sedan 4d      good  6 cylinders  ...   fwd   NaN   \n",
       "426876  s60 t5 momentum sedan 4d      good          NaN  ...   fwd   NaN   \n",
       "426877          xt4 sport suv 4d      good          NaN  ...   NaN   NaN   \n",
       "426878           es 350 sedan 4d      good  6 cylinders  ...   fwd   NaN   \n",
       "426879  4 series 430i gran coupe      good          NaN  ...   rwd   NaN   \n",
       "\n",
       "             type paint_color  \\\n",
       "426875      sedan         NaN   \n",
       "426876      sedan         red   \n",
       "426877  hatchback       white   \n",
       "426878      sedan      silver   \n",
       "426879      coupe         NaN   \n",
       "\n",
       "                                                image_url  \\\n",
       "426875  https://images.craigslist.org/00o0o_iiraFnHg8q...   \n",
       "426876  https://images.craigslist.org/00x0x_15sbgnxCIS...   \n",
       "426877  https://images.craigslist.org/00L0L_farM7bxnxR...   \n",
       "426878  https://images.craigslist.org/00z0z_bKnIVGLkDT...   \n",
       "426879  https://images.craigslist.org/00Y0Y_lEUocjyRxa...   \n",
       "\n",
       "                                              description state        lat  \\\n",
       "426875  Carvana is the safer way to buy a car During t...    wy  33.786500   \n",
       "426876  Carvana is the safer way to buy a car During t...    wy  33.786500   \n",
       "426877  Carvana is the safer way to buy a car During t...    wy  33.779214   \n",
       "426878  Carvana is the safer way to buy a car During t...    wy  33.786500   \n",
       "426879  Carvana is the safer way to buy a car During t...    wy  33.779214   \n",
       "\n",
       "             long              posting_date  \n",
       "426875 -84.445400  2021-04-04T03:21:31-0600  \n",
       "426876 -84.445400  2021-04-04T03:21:29-0600  \n",
       "426877 -84.411811  2021-04-04T03:21:17-0600  \n",
       "426878 -84.445400  2021-04-04T03:21:11-0600  \n",
       "426879 -84.411811  2021-04-04T03:21:07-0600  \n",
       "\n",
       "[5 rows x 25 columns]"
      ]
     },
     "execution_count": 41,
     "metadata": {},
     "output_type": "execute_result"
    }
   ],
   "source": [
    "df_tmp.tail()"
   ]
  },
  {
   "cell_type": "code",
   "execution_count": 42,
   "id": "516433fb",
   "metadata": {},
   "outputs": [
    {
     "name": "stdout",
     "output_type": "stream",
     "text": [
      "year\n",
      "odometer\n",
      "lat\n",
      "long\n"
     ]
    }
   ],
   "source": [
    "# Check again if there's any null values\n",
    "for label, content in df_tmp.items():\n",
    "    if pd.api.types.is_numeric_dtype(content):\n",
    "        if pd.isnull(content).sum():\n",
    "            print(label)"
   ]
  },
  {
   "cell_type": "code",
   "execution_count": 43,
   "id": "f6c7dfb8",
   "metadata": {},
   "outputs": [
    {
     "name": "stdout",
     "output_type": "stream",
     "text": [
      "Index(['id', 'url', 'region', 'region_url', 'price', 'year', 'manufacturer',\n",
      "       'model', 'condition', 'cylinders', 'fuel', 'odometer', 'title_status',\n",
      "       'transmission', 'VIN', 'drive', 'size', 'type', 'paint_color',\n",
      "       'image_url', 'description', 'state', 'lat', 'long', 'posting_date'],\n",
      "      dtype='object')\n"
     ]
    }
   ],
   "source": [
    "print(df_tmp.columns)"
   ]
  },
  {
   "cell_type": "markdown",
   "id": "b519cc50",
   "metadata": {},
   "source": [
    "## Filling and turning categorical variables to numbers\n",
    "Now I've filled the numeric values, I'll do the same with the categorical values at the same time as turning them into numbers."
   ]
  },
  {
   "cell_type": "code",
   "execution_count": 44,
   "id": "33167a92",
   "metadata": {},
   "outputs": [
    {
     "name": "stdout",
     "output_type": "stream",
     "text": [
      "url\n",
      "region\n",
      "region_url\n",
      "manufacturer\n",
      "model\n",
      "condition\n",
      "cylinders\n",
      "fuel\n",
      "title_status\n",
      "transmission\n",
      "VIN\n",
      "drive\n",
      "size\n",
      "type\n",
      "paint_color\n",
      "image_url\n",
      "description\n",
      "state\n",
      "posting_date\n"
     ]
    }
   ],
   "source": [
    "# Check columns which *aren't* numeric\n",
    "for label, content in df_tmp.items():\n",
    "    if not pd.api.types.is_numeric_dtype(content):\n",
    "        print(label)\n"
   ]
  },
  {
   "cell_type": "code",
   "execution_count": 45,
   "id": "7f7c9577",
   "metadata": {},
   "outputs": [],
   "source": [
    "# Turn categorical variables into numbers\n",
    "for label, content in df_tmp.items():\n",
    "    # Check columns which *aren't* numeric\n",
    "    if not pd.api.types.is_numeric_dtype(content):\n",
    "        # Add binary column to inidicate whether sample had missing value\n",
    "        df_tmp[label+\"_is_missing\"] = pd.isnull(content)\n",
    "        # We add the +1 because pandas encodes missing categories as -1\n",
    "        df_tmp[label] = pd.Categorical(content).codes+1        "
   ]
  },
  {
   "cell_type": "code",
   "execution_count": 46,
   "id": "0abaf064",
   "metadata": {},
   "outputs": [
    {
     "name": "stdout",
     "output_type": "stream",
     "text": [
      "<class 'pandas.core.frame.DataFrame'>\n",
      "RangeIndex: 426880 entries, 0 to 426879\n",
      "Data columns (total 44 columns):\n",
      " #   Column                   Non-Null Count   Dtype  \n",
      "---  ------                   --------------   -----  \n",
      " 0   id                       426880 non-null  int64  \n",
      " 1   url                      426880 non-null  int32  \n",
      " 2   region                   426880 non-null  int16  \n",
      " 3   region_url               426880 non-null  int16  \n",
      " 4   price                    426880 non-null  int64  \n",
      " 5   year                     425675 non-null  float64\n",
      " 6   manufacturer             426880 non-null  int8   \n",
      " 7   model                    426880 non-null  int16  \n",
      " 8   condition                426880 non-null  int8   \n",
      " 9   cylinders                426880 non-null  int8   \n",
      " 10  fuel                     426880 non-null  int8   \n",
      " 11  odometer                 422480 non-null  float64\n",
      " 12  title_status             426880 non-null  int8   \n",
      " 13  transmission             426880 non-null  int8   \n",
      " 14  VIN                      426880 non-null  int32  \n",
      " 15  drive                    426880 non-null  int8   \n",
      " 16  size                     426880 non-null  int8   \n",
      " 17  type                     426880 non-null  int8   \n",
      " 18  paint_color              426880 non-null  int8   \n",
      " 19  image_url                426880 non-null  int32  \n",
      " 20  description              426880 non-null  int32  \n",
      " 21  state                    426880 non-null  int8   \n",
      " 22  lat                      420331 non-null  float64\n",
      " 23  long                     420331 non-null  float64\n",
      " 24  posting_date             426880 non-null  int32  \n",
      " 25  url_is_missing           426880 non-null  bool   \n",
      " 26  region_is_missing        426880 non-null  bool   \n",
      " 27  region_url_is_missing    426880 non-null  bool   \n",
      " 28  manufacturer_is_missing  426880 non-null  bool   \n",
      " 29  model_is_missing         426880 non-null  bool   \n",
      " 30  condition_is_missing     426880 non-null  bool   \n",
      " 31  cylinders_is_missing     426880 non-null  bool   \n",
      " 32  fuel_is_missing          426880 non-null  bool   \n",
      " 33  title_status_is_missing  426880 non-null  bool   \n",
      " 34  transmission_is_missing  426880 non-null  bool   \n",
      " 35  VIN_is_missing           426880 non-null  bool   \n",
      " 36  drive_is_missing         426880 non-null  bool   \n",
      " 37  size_is_missing          426880 non-null  bool   \n",
      " 38  type_is_missing          426880 non-null  bool   \n",
      " 39  paint_color_is_missing   426880 non-null  bool   \n",
      " 40  image_url_is_missing     426880 non-null  bool   \n",
      " 41  description_is_missing   426880 non-null  bool   \n",
      " 42  state_is_missing         426880 non-null  bool   \n",
      " 43  posting_date_is_missing  426880 non-null  bool   \n",
      "dtypes: bool(19), float64(4), int16(3), int32(5), int64(2), int8(11)\n",
      "memory usage: 42.3 MB\n"
     ]
    }
   ],
   "source": [
    "df_tmp.info()"
   ]
  },
  {
   "cell_type": "code",
   "execution_count": 47,
   "id": "3854a6d9",
   "metadata": {},
   "outputs": [
    {
     "data": {
      "text/plain": [
       "id                            0\n",
       "url                           0\n",
       "region                        0\n",
       "region_url                    0\n",
       "price                         0\n",
       "year                       1205\n",
       "manufacturer                  0\n",
       "model                         0\n",
       "condition                     0\n",
       "cylinders                     0\n",
       "fuel                          0\n",
       "odometer                   4400\n",
       "title_status                  0\n",
       "transmission                  0\n",
       "VIN                           0\n",
       "drive                         0\n",
       "size                          0\n",
       "type                          0\n",
       "paint_color                   0\n",
       "image_url                     0\n",
       "description                   0\n",
       "state                         0\n",
       "lat                        6549\n",
       "long                       6549\n",
       "posting_date                  0\n",
       "url_is_missing                0\n",
       "region_is_missing             0\n",
       "region_url_is_missing         0\n",
       "manufacturer_is_missing       0\n",
       "model_is_missing              0\n",
       "condition_is_missing          0\n",
       "cylinders_is_missing          0\n",
       "fuel_is_missing               0\n",
       "title_status_is_missing       0\n",
       "transmission_is_missing       0\n",
       "VIN_is_missing                0\n",
       "drive_is_missing              0\n",
       "size_is_missing               0\n",
       "type_is_missing               0\n",
       "paint_color_is_missing        0\n",
       "image_url_is_missing          0\n",
       "description_is_missing        0\n",
       "state_is_missing              0\n",
       "posting_date_is_missing       0\n",
       "dtype: int64"
      ]
     },
     "execution_count": 47,
     "metadata": {},
     "output_type": "execute_result"
    }
   ],
   "source": [
    "df_tmp.isna().sum()"
   ]
  },
  {
   "cell_type": "markdown",
   "id": "38e5f7ec",
   "metadata": {},
   "source": [
    "## Will fill missing value with medians and means. \n",
    "For lat and long it would be a little complicated, but with what is given in this dataset I would use the mean for this model"
   ]
  },
  {
   "cell_type": "code",
   "execution_count": 48,
   "id": "c886937f",
   "metadata": {},
   "outputs": [],
   "source": [
    "# Fill missing values in the 'year' column with the median value\n",
    "df_tmp['year'].fillna(df_tmp['year'].median(), inplace=True)\n",
    "\n",
    "# Fill missing values in the 'odometer' column with the mean value\n",
    "df_tmp['odometer'].fillna(df_tmp['odometer'].mean(), inplace=True)\n",
    "\n",
    "# Fill missing values in the 'lat' and 'long' columns with the mean values\n",
    "df_tmp['lat'].fillna(df_tmp['lat'].mean(), inplace=True)\n",
    "df_tmp['long'].fillna(df_tmp['long'].mean(), inplace=True)\n"
   ]
  },
  {
   "cell_type": "code",
   "execution_count": 49,
   "id": "4b22555d",
   "metadata": {},
   "outputs": [
    {
     "data": {
      "text/plain": [
       "id                         0\n",
       "url                        0\n",
       "region                     0\n",
       "region_url                 0\n",
       "price                      0\n",
       "year                       0\n",
       "manufacturer               0\n",
       "model                      0\n",
       "condition                  0\n",
       "cylinders                  0\n",
       "fuel                       0\n",
       "odometer                   0\n",
       "title_status               0\n",
       "transmission               0\n",
       "VIN                        0\n",
       "drive                      0\n",
       "size                       0\n",
       "type                       0\n",
       "paint_color                0\n",
       "image_url                  0\n",
       "description                0\n",
       "state                      0\n",
       "lat                        0\n",
       "long                       0\n",
       "posting_date               0\n",
       "url_is_missing             0\n",
       "region_is_missing          0\n",
       "region_url_is_missing      0\n",
       "manufacturer_is_missing    0\n",
       "model_is_missing           0\n",
       "condition_is_missing       0\n",
       "cylinders_is_missing       0\n",
       "fuel_is_missing            0\n",
       "title_status_is_missing    0\n",
       "transmission_is_missing    0\n",
       "VIN_is_missing             0\n",
       "drive_is_missing           0\n",
       "size_is_missing            0\n",
       "type_is_missing            0\n",
       "paint_color_is_missing     0\n",
       "image_url_is_missing       0\n",
       "description_is_missing     0\n",
       "state_is_missing           0\n",
       "posting_date_is_missing    0\n",
       "dtype: int64"
      ]
     },
     "execution_count": 49,
     "metadata": {},
     "output_type": "execute_result"
    }
   ],
   "source": [
    "df_tmp.isna().sum()"
   ]
  },
  {
   "cell_type": "markdown",
   "id": "558e128b",
   "metadata": {},
   "source": [
    "Now all of hte data is numeric and there are no missing values, I should be able to build a machine learning model.\n",
    "\n",
    "Let's reinstantiate the trusty RandomForestRegressor.\n",
    "\n",
    "This will take a few minutes which is too long for interacting with it. So what I'll do is create a subset of rows to work with."
   ]
  },
  {
   "cell_type": "code",
   "execution_count": 53,
   "id": "902ce0a4",
   "metadata": {},
   "outputs": [],
   "source": [
    "from sklearn.ensemble import RandomForestRegressor"
   ]
  },
  {
   "cell_type": "code",
   "execution_count": 55,
   "id": "186bc77d",
   "metadata": {},
   "outputs": [
    {
     "name": "stdout",
     "output_type": "stream",
     "text": [
      "CPU times: user 14min 8s, sys: 2.45 s, total: 14min 10s\n",
      "Wall time: 1min 32s\n"
     ]
    },
    {
     "data": {
      "text/html": [
       "<style>#sk-container-id-2 {color: black;background-color: white;}#sk-container-id-2 pre{padding: 0;}#sk-container-id-2 div.sk-toggleable {background-color: white;}#sk-container-id-2 label.sk-toggleable__label {cursor: pointer;display: block;width: 100%;margin-bottom: 0;padding: 0.3em;box-sizing: border-box;text-align: center;}#sk-container-id-2 label.sk-toggleable__label-arrow:before {content: \"▸\";float: left;margin-right: 0.25em;color: #696969;}#sk-container-id-2 label.sk-toggleable__label-arrow:hover:before {color: black;}#sk-container-id-2 div.sk-estimator:hover label.sk-toggleable__label-arrow:before {color: black;}#sk-container-id-2 div.sk-toggleable__content {max-height: 0;max-width: 0;overflow: hidden;text-align: left;background-color: #f0f8ff;}#sk-container-id-2 div.sk-toggleable__content pre {margin: 0.2em;color: black;border-radius: 0.25em;background-color: #f0f8ff;}#sk-container-id-2 input.sk-toggleable__control:checked~div.sk-toggleable__content {max-height: 200px;max-width: 100%;overflow: auto;}#sk-container-id-2 input.sk-toggleable__control:checked~label.sk-toggleable__label-arrow:before {content: \"▾\";}#sk-container-id-2 div.sk-estimator input.sk-toggleable__control:checked~label.sk-toggleable__label {background-color: #d4ebff;}#sk-container-id-2 div.sk-label input.sk-toggleable__control:checked~label.sk-toggleable__label {background-color: #d4ebff;}#sk-container-id-2 input.sk-hidden--visually {border: 0;clip: rect(1px 1px 1px 1px);clip: rect(1px, 1px, 1px, 1px);height: 1px;margin: -1px;overflow: hidden;padding: 0;position: absolute;width: 1px;}#sk-container-id-2 div.sk-estimator {font-family: monospace;background-color: #f0f8ff;border: 1px dotted black;border-radius: 0.25em;box-sizing: border-box;margin-bottom: 0.5em;}#sk-container-id-2 div.sk-estimator:hover {background-color: #d4ebff;}#sk-container-id-2 div.sk-parallel-item::after {content: \"\";width: 100%;border-bottom: 1px solid gray;flex-grow: 1;}#sk-container-id-2 div.sk-label:hover label.sk-toggleable__label {background-color: #d4ebff;}#sk-container-id-2 div.sk-serial::before {content: \"\";position: absolute;border-left: 1px solid gray;box-sizing: border-box;top: 0;bottom: 0;left: 50%;z-index: 0;}#sk-container-id-2 div.sk-serial {display: flex;flex-direction: column;align-items: center;background-color: white;padding-right: 0.2em;padding-left: 0.2em;position: relative;}#sk-container-id-2 div.sk-item {position: relative;z-index: 1;}#sk-container-id-2 div.sk-parallel {display: flex;align-items: stretch;justify-content: center;background-color: white;position: relative;}#sk-container-id-2 div.sk-item::before, #sk-container-id-2 div.sk-parallel-item::before {content: \"\";position: absolute;border-left: 1px solid gray;box-sizing: border-box;top: 0;bottom: 0;left: 50%;z-index: -1;}#sk-container-id-2 div.sk-parallel-item {display: flex;flex-direction: column;z-index: 1;position: relative;background-color: white;}#sk-container-id-2 div.sk-parallel-item:first-child::after {align-self: flex-end;width: 50%;}#sk-container-id-2 div.sk-parallel-item:last-child::after {align-self: flex-start;width: 50%;}#sk-container-id-2 div.sk-parallel-item:only-child::after {width: 0;}#sk-container-id-2 div.sk-dashed-wrapped {border: 1px dashed gray;margin: 0 0.4em 0.5em 0.4em;box-sizing: border-box;padding-bottom: 0.4em;background-color: white;}#sk-container-id-2 div.sk-label label {font-family: monospace;font-weight: bold;display: inline-block;line-height: 1.2em;}#sk-container-id-2 div.sk-label-container {text-align: center;}#sk-container-id-2 div.sk-container {/* jupyter's `normalize.less` sets `[hidden] { display: none; }` but bootstrap.min.css set `[hidden] { display: none !important; }` so we also need the `!important` here to be able to override the default hidden behavior on the sphinx rendered scikit-learn.org. See: https://github.com/scikit-learn/scikit-learn/issues/21755 */display: inline-block !important;position: relative;}#sk-container-id-2 div.sk-text-repr-fallback {display: none;}</style><div id=\"sk-container-id-2\" class=\"sk-top-container\"><div class=\"sk-text-repr-fallback\"><pre>RandomForestRegressor(n_jobs=-1)</pre><b>In a Jupyter environment, please rerun this cell to show the HTML representation or trust the notebook. <br />On GitHub, the HTML representation is unable to render, please try loading this page with nbviewer.org.</b></div><div class=\"sk-container\" hidden><div class=\"sk-item\"><div class=\"sk-estimator sk-toggleable\"><input class=\"sk-toggleable__control sk-hidden--visually\" id=\"sk-estimator-id-2\" type=\"checkbox\" checked><label for=\"sk-estimator-id-2\" class=\"sk-toggleable__label sk-toggleable__label-arrow\">RandomForestRegressor</label><div class=\"sk-toggleable__content\"><pre>RandomForestRegressor(n_jobs=-1)</pre></div></div></div></div></div>"
      ],
      "text/plain": [
       "RandomForestRegressor(n_jobs=-1)"
      ]
     },
     "execution_count": 55,
     "metadata": {},
     "output_type": "execute_result"
    }
   ],
   "source": [
    "%%time\n",
    "# Instantiate model\n",
    "model = RandomForestRegressor(n_jobs=-1)\n",
    "\n",
    "# Fit the model\n",
    "model.fit(df_tmp.drop(\"price\", axis=1), df_tmp.price)"
   ]
  },
  {
   "cell_type": "code",
   "execution_count": 57,
   "id": "bb742dd8",
   "metadata": {},
   "outputs": [
    {
     "data": {
      "text/plain": [
       "0.8314533737870261"
      ]
     },
     "execution_count": 57,
     "metadata": {},
     "output_type": "execute_result"
    }
   ],
   "source": [
    "# Score the model\n",
    "model.score(df_tmp.drop(\"price\", axis=1), df_tmp.price)\n"
   ]
  },
  {
   "cell_type": "markdown",
   "id": "08175287",
   "metadata": {},
   "source": [
    "## Splitting data into train/valid/test sets"
   ]
  },
  {
   "cell_type": "code",
   "execution_count": 58,
   "id": "88af80ba",
   "metadata": {},
   "outputs": [
    {
     "name": "stdout",
     "output_type": "stream",
     "text": [
      "X_train shape: (273203, 43)\n",
      "X_valid shape: (68301, 43)\n",
      "X_test shape: (85376, 43)\n"
     ]
    }
   ],
   "source": [
    "from sklearn.model_selection import train_test_split\n",
    "\n",
    "# Split the data into training and test sets\n",
    "X_train, X_test, y_train, y_test = train_test_split(df_tmp.drop(\"price\", axis=1), df_tmp[\"price\"], test_size=0.2, random_state=42)\n",
    "\n",
    "# Split the training set into training and validation sets\n",
    "X_train, X_valid, y_train, y_valid = train_test_split(X_train, y_train, test_size=0.2, random_state=42)\n",
    "\n",
    "# Verify the shape of the training, validation, and test sets\n",
    "print(\"X_train shape:\", X_train.shape)\n",
    "print(\"X_valid shape:\", X_valid.shape)\n",
    "print(\"X_test shape:\", X_test.shape)\n"
   ]
  },
  {
   "cell_type": "markdown",
   "id": "27b3e11d",
   "metadata": {},
   "source": [
    "## Building an evaluation function\n",
    "\n",
    "Will attempt to use root mean squared long error (RMSLE)\n",
    "\n",
    "RMSLE = generally you don't care as much if you're off by $10 as much as you'd care if you were off by 10%, you care more about ratios rather than differences. MAE (mean absolute error) is more about exact differences.\n",
    "\n",
    "It's important to understand the evaluation metric I am going for.\n",
    "\n",
    "Since Scikit-Learn doesn't have a function built-in for RMSLE, I'll create our own.\n",
    "\n",
    "Doing this by taking the square root of Scikit-Learn's mean_squared_log_error (MSLE). MSLE is the same as taking the log of mean squared error (MSE).\n",
    "\n",
    "I'll also calculate the MAE and R^2."
   ]
  },
  {
   "cell_type": "code",
   "execution_count": 59,
   "id": "f1291111",
   "metadata": {},
   "outputs": [],
   "source": [
    "# Create evaluation function (the competition uses Root Mean Square Log Error)\n",
    "from sklearn.metrics import mean_squared_log_error, mean_absolute_error\n",
    "\n",
    "def rmsle(y_test, y_preds):\n",
    "    return np.sqrt(mean_squared_log_error(y_test, y_preds))\n",
    "\n",
    "# Create function to evaluate our model\n",
    "def show_scores(model):\n",
    "    train_preds = model.predict(X_train)\n",
    "    val_preds = model.predict(X_valid)\n",
    "    scores = {\"Training MAE\": mean_absolute_error(y_train, train_preds),\n",
    "              \"Valid MAE\": mean_absolute_error(y_valid, val_preds),\n",
    "              \"Training RMSLE\": rmsle(y_train, train_preds),\n",
    "              \"Valid RMSLE\": rmsle(y_valid, val_preds),\n",
    "              \"Training R^2\": model.score(X_train, y_train),\n",
    "              \"Valid R^2\": model.score(X_valid, y_valid)}\n",
    "    return scores"
   ]
  },
  {
   "cell_type": "markdown",
   "id": "5f8eda15",
   "metadata": {},
   "source": [
    "## Testing our model on a subset (to tune the hyperparameters)\n",
    "Retraining an entire model would take far too long to continuing experimenting as fast as I want to.\n",
    "\n",
    "So what I'll do is take a sample of the training set and tune the hyperparameters on that before training a larger model."
   ]
  },
  {
   "cell_type": "code",
   "execution_count": 60,
   "id": "8529d87b",
   "metadata": {},
   "outputs": [],
   "source": [
    "# This takes too long...\n",
    "\n",
    "# %%time\n",
    "# # Retrain a model on training data\n",
    "# model.fit(X_train, y_train)\n",
    "# show_scores(model)"
   ]
  },
  {
   "cell_type": "code",
   "execution_count": 61,
   "id": "53a73c45",
   "metadata": {},
   "outputs": [
    {
     "data": {
      "text/plain": [
       "273203"
      ]
     },
     "execution_count": 61,
     "metadata": {},
     "output_type": "execute_result"
    }
   ],
   "source": [
    "len(X_train)"
   ]
  },
  {
   "cell_type": "markdown",
   "id": "98fe9bb8",
   "metadata": {},
   "source": [
    "\n",
    "### Let's alter the number of samples each n_estimator in the RandomForestRegressor see's using the max_samples parameter."
   ]
  },
  {
   "cell_type": "code",
   "execution_count": 62,
   "id": "deff2f38",
   "metadata": {},
   "outputs": [],
   "source": [
    "# Change max samples in RandomForestRegressor\n",
    "model = RandomForestRegressor(n_jobs=-1,\n",
    "                              max_samples=10000)\n"
   ]
  },
  {
   "cell_type": "markdown",
   "id": "7495ec4d",
   "metadata": {},
   "source": [
    "Setting max_samples to 10000 making every n_estimator (default 100) in our RandomForestRegressor will only see 10000 random samples from the DataFrame instead of the entire 341504.\n",
    "\n",
    "I'll be looking at 34x less samples which means we'll get faster computation speeds but I should expect our results to worsen as the model has less samples to learn patterns from)."
   ]
  },
  {
   "cell_type": "code",
   "execution_count": 63,
   "id": "09b080b5",
   "metadata": {},
   "outputs": [
    {
     "name": "stdout",
     "output_type": "stream",
     "text": [
      "CPU times: user 22.7 s, sys: 198 ms, total: 22.9 s\n",
      "Wall time: 2.68 s\n"
     ]
    },
    {
     "data": {
      "text/html": [
       "<style>#sk-container-id-3 {color: black;background-color: white;}#sk-container-id-3 pre{padding: 0;}#sk-container-id-3 div.sk-toggleable {background-color: white;}#sk-container-id-3 label.sk-toggleable__label {cursor: pointer;display: block;width: 100%;margin-bottom: 0;padding: 0.3em;box-sizing: border-box;text-align: center;}#sk-container-id-3 label.sk-toggleable__label-arrow:before {content: \"▸\";float: left;margin-right: 0.25em;color: #696969;}#sk-container-id-3 label.sk-toggleable__label-arrow:hover:before {color: black;}#sk-container-id-3 div.sk-estimator:hover label.sk-toggleable__label-arrow:before {color: black;}#sk-container-id-3 div.sk-toggleable__content {max-height: 0;max-width: 0;overflow: hidden;text-align: left;background-color: #f0f8ff;}#sk-container-id-3 div.sk-toggleable__content pre {margin: 0.2em;color: black;border-radius: 0.25em;background-color: #f0f8ff;}#sk-container-id-3 input.sk-toggleable__control:checked~div.sk-toggleable__content {max-height: 200px;max-width: 100%;overflow: auto;}#sk-container-id-3 input.sk-toggleable__control:checked~label.sk-toggleable__label-arrow:before {content: \"▾\";}#sk-container-id-3 div.sk-estimator input.sk-toggleable__control:checked~label.sk-toggleable__label {background-color: #d4ebff;}#sk-container-id-3 div.sk-label input.sk-toggleable__control:checked~label.sk-toggleable__label {background-color: #d4ebff;}#sk-container-id-3 input.sk-hidden--visually {border: 0;clip: rect(1px 1px 1px 1px);clip: rect(1px, 1px, 1px, 1px);height: 1px;margin: -1px;overflow: hidden;padding: 0;position: absolute;width: 1px;}#sk-container-id-3 div.sk-estimator {font-family: monospace;background-color: #f0f8ff;border: 1px dotted black;border-radius: 0.25em;box-sizing: border-box;margin-bottom: 0.5em;}#sk-container-id-3 div.sk-estimator:hover {background-color: #d4ebff;}#sk-container-id-3 div.sk-parallel-item::after {content: \"\";width: 100%;border-bottom: 1px solid gray;flex-grow: 1;}#sk-container-id-3 div.sk-label:hover label.sk-toggleable__label {background-color: #d4ebff;}#sk-container-id-3 div.sk-serial::before {content: \"\";position: absolute;border-left: 1px solid gray;box-sizing: border-box;top: 0;bottom: 0;left: 50%;z-index: 0;}#sk-container-id-3 div.sk-serial {display: flex;flex-direction: column;align-items: center;background-color: white;padding-right: 0.2em;padding-left: 0.2em;position: relative;}#sk-container-id-3 div.sk-item {position: relative;z-index: 1;}#sk-container-id-3 div.sk-parallel {display: flex;align-items: stretch;justify-content: center;background-color: white;position: relative;}#sk-container-id-3 div.sk-item::before, #sk-container-id-3 div.sk-parallel-item::before {content: \"\";position: absolute;border-left: 1px solid gray;box-sizing: border-box;top: 0;bottom: 0;left: 50%;z-index: -1;}#sk-container-id-3 div.sk-parallel-item {display: flex;flex-direction: column;z-index: 1;position: relative;background-color: white;}#sk-container-id-3 div.sk-parallel-item:first-child::after {align-self: flex-end;width: 50%;}#sk-container-id-3 div.sk-parallel-item:last-child::after {align-self: flex-start;width: 50%;}#sk-container-id-3 div.sk-parallel-item:only-child::after {width: 0;}#sk-container-id-3 div.sk-dashed-wrapped {border: 1px dashed gray;margin: 0 0.4em 0.5em 0.4em;box-sizing: border-box;padding-bottom: 0.4em;background-color: white;}#sk-container-id-3 div.sk-label label {font-family: monospace;font-weight: bold;display: inline-block;line-height: 1.2em;}#sk-container-id-3 div.sk-label-container {text-align: center;}#sk-container-id-3 div.sk-container {/* jupyter's `normalize.less` sets `[hidden] { display: none; }` but bootstrap.min.css set `[hidden] { display: none !important; }` so we also need the `!important` here to be able to override the default hidden behavior on the sphinx rendered scikit-learn.org. See: https://github.com/scikit-learn/scikit-learn/issues/21755 */display: inline-block !important;position: relative;}#sk-container-id-3 div.sk-text-repr-fallback {display: none;}</style><div id=\"sk-container-id-3\" class=\"sk-top-container\"><div class=\"sk-text-repr-fallback\"><pre>RandomForestRegressor(max_samples=10000, n_jobs=-1)</pre><b>In a Jupyter environment, please rerun this cell to show the HTML representation or trust the notebook. <br />On GitHub, the HTML representation is unable to render, please try loading this page with nbviewer.org.</b></div><div class=\"sk-container\" hidden><div class=\"sk-item\"><div class=\"sk-estimator sk-toggleable\"><input class=\"sk-toggleable__control sk-hidden--visually\" id=\"sk-estimator-id-3\" type=\"checkbox\" checked><label for=\"sk-estimator-id-3\" class=\"sk-toggleable__label sk-toggleable__label-arrow\">RandomForestRegressor</label><div class=\"sk-toggleable__content\"><pre>RandomForestRegressor(max_samples=10000, n_jobs=-1)</pre></div></div></div></div></div>"
      ],
      "text/plain": [
       "RandomForestRegressor(max_samples=10000, n_jobs=-1)"
      ]
     },
     "execution_count": 63,
     "metadata": {},
     "output_type": "execute_result"
    }
   ],
   "source": [
    "%%time\n",
    "# Cutting down the max number of samples each tree can see improves training time\n",
    "model.fit(X_train, y_train)"
   ]
  },
  {
   "cell_type": "code",
   "execution_count": 64,
   "id": "bed22598",
   "metadata": {},
   "outputs": [
    {
     "data": {
      "text/plain": [
       "{'Training MAE': 99474.89903599159,\n",
       " 'Valid MAE': 79095.12230260171,\n",
       " 'Training RMSLE': 2.7899195581818206,\n",
       " 'Valid RMSLE': 2.832467732829215,\n",
       " 'Training R^2': 0.09754805107771714,\n",
       " 'Valid R^2': -0.2751489404614995}"
      ]
     },
     "execution_count": 64,
     "metadata": {},
     "output_type": "execute_result"
    }
   ],
   "source": [
    "show_scores(model)"
   ]
  },
  {
   "cell_type": "markdown",
   "id": "5d9b36a4",
   "metadata": {},
   "source": [
    "## Hyperparameter tuning with RandomizedSearchCV\n",
    "Will increase n_iter to try more combinations of hyperparameters but in our case, I'll try 20 and see where it gets me.\n",
    "\n",
    "Trying to reduce the amount of time it takes between experiments."
   ]
  },
  {
   "cell_type": "code",
   "execution_count": 65,
   "id": "123d6416",
   "metadata": {},
   "outputs": [
    {
     "name": "stdout",
     "output_type": "stream",
     "text": [
      "Fitting 5 folds for each of 20 candidates, totalling 100 fits\n"
     ]
    },
    {
     "name": "stderr",
     "output_type": "stream",
     "text": [
      "/Users/heic/desktop/data_projects/used_car_price_regression/env/lib/python3.11/site-packages/sklearn/ensemble/_forest.py:413: FutureWarning: `max_features='auto'` has been deprecated in 1.1 and will be removed in 1.3. To keep the past behaviour, explicitly set `max_features=1.0` or remove this parameter as it is also the default value for RandomForestRegressors and ExtraTreesRegressors.\n",
      "  warn(\n",
      "/Users/heic/desktop/data_projects/used_car_price_regression/env/lib/python3.11/site-packages/sklearn/ensemble/_forest.py:413: FutureWarning: `max_features='auto'` has been deprecated in 1.1 and will be removed in 1.3. To keep the past behaviour, explicitly set `max_features=1.0` or remove this parameter as it is also the default value for RandomForestRegressors and ExtraTreesRegressors.\n",
      "  warn(\n",
      "/Users/heic/desktop/data_projects/used_car_price_regression/env/lib/python3.11/site-packages/sklearn/ensemble/_forest.py:413: FutureWarning: `max_features='auto'` has been deprecated in 1.1 and will be removed in 1.3. To keep the past behaviour, explicitly set `max_features=1.0` or remove this parameter as it is also the default value for RandomForestRegressors and ExtraTreesRegressors.\n",
      "  warn(\n",
      "/Users/heic/desktop/data_projects/used_car_price_regression/env/lib/python3.11/site-packages/sklearn/ensemble/_forest.py:413: FutureWarning: `max_features='auto'` has been deprecated in 1.1 and will be removed in 1.3. To keep the past behaviour, explicitly set `max_features=1.0` or remove this parameter as it is also the default value for RandomForestRegressors and ExtraTreesRegressors.\n",
      "  warn(\n",
      "/Users/heic/desktop/data_projects/used_car_price_regression/env/lib/python3.11/site-packages/sklearn/ensemble/_forest.py:413: FutureWarning: `max_features='auto'` has been deprecated in 1.1 and will be removed in 1.3. To keep the past behaviour, explicitly set `max_features=1.0` or remove this parameter as it is also the default value for RandomForestRegressors and ExtraTreesRegressors.\n",
      "  warn(\n",
      "/Users/heic/desktop/data_projects/used_car_price_regression/env/lib/python3.11/site-packages/sklearn/ensemble/_forest.py:413: FutureWarning: `max_features='auto'` has been deprecated in 1.1 and will be removed in 1.3. To keep the past behaviour, explicitly set `max_features=1.0` or remove this parameter as it is also the default value for RandomForestRegressors and ExtraTreesRegressors.\n",
      "  warn(\n",
      "/Users/heic/desktop/data_projects/used_car_price_regression/env/lib/python3.11/site-packages/sklearn/ensemble/_forest.py:413: FutureWarning: `max_features='auto'` has been deprecated in 1.1 and will be removed in 1.3. To keep the past behaviour, explicitly set `max_features=1.0` or remove this parameter as it is also the default value for RandomForestRegressors and ExtraTreesRegressors.\n",
      "  warn(\n",
      "/Users/heic/desktop/data_projects/used_car_price_regression/env/lib/python3.11/site-packages/sklearn/ensemble/_forest.py:413: FutureWarning: `max_features='auto'` has been deprecated in 1.1 and will be removed in 1.3. To keep the past behaviour, explicitly set `max_features=1.0` or remove this parameter as it is also the default value for RandomForestRegressors and ExtraTreesRegressors.\n",
      "  warn(\n",
      "/Users/heic/desktop/data_projects/used_car_price_regression/env/lib/python3.11/site-packages/sklearn/ensemble/_forest.py:413: FutureWarning: `max_features='auto'` has been deprecated in 1.1 and will be removed in 1.3. To keep the past behaviour, explicitly set `max_features=1.0` or remove this parameter as it is also the default value for RandomForestRegressors and ExtraTreesRegressors.\n",
      "  warn(\n",
      "/Users/heic/desktop/data_projects/used_car_price_regression/env/lib/python3.11/site-packages/sklearn/ensemble/_forest.py:413: FutureWarning: `max_features='auto'` has been deprecated in 1.1 and will be removed in 1.3. To keep the past behaviour, explicitly set `max_features=1.0` or remove this parameter as it is also the default value for RandomForestRegressors and ExtraTreesRegressors.\n",
      "  warn(\n",
      "/Users/heic/desktop/data_projects/used_car_price_regression/env/lib/python3.11/site-packages/sklearn/ensemble/_forest.py:413: FutureWarning: `max_features='auto'` has been deprecated in 1.1 and will be removed in 1.3. To keep the past behaviour, explicitly set `max_features=1.0` or remove this parameter as it is also the default value for RandomForestRegressors and ExtraTreesRegressors.\n",
      "  warn(\n",
      "/Users/heic/desktop/data_projects/used_car_price_regression/env/lib/python3.11/site-packages/sklearn/ensemble/_forest.py:413: FutureWarning: `max_features='auto'` has been deprecated in 1.1 and will be removed in 1.3. To keep the past behaviour, explicitly set `max_features=1.0` or remove this parameter as it is also the default value for RandomForestRegressors and ExtraTreesRegressors.\n",
      "  warn(\n",
      "/Users/heic/desktop/data_projects/used_car_price_regression/env/lib/python3.11/site-packages/sklearn/ensemble/_forest.py:413: FutureWarning: `max_features='auto'` has been deprecated in 1.1 and will be removed in 1.3. To keep the past behaviour, explicitly set `max_features=1.0` or remove this parameter as it is also the default value for RandomForestRegressors and ExtraTreesRegressors.\n",
      "  warn(\n",
      "/Users/heic/desktop/data_projects/used_car_price_regression/env/lib/python3.11/site-packages/sklearn/ensemble/_forest.py:413: FutureWarning: `max_features='auto'` has been deprecated in 1.1 and will be removed in 1.3. To keep the past behaviour, explicitly set `max_features=1.0` or remove this parameter as it is also the default value for RandomForestRegressors and ExtraTreesRegressors.\n",
      "  warn(\n",
      "/Users/heic/desktop/data_projects/used_car_price_regression/env/lib/python3.11/site-packages/sklearn/ensemble/_forest.py:413: FutureWarning: `max_features='auto'` has been deprecated in 1.1 and will be removed in 1.3. To keep the past behaviour, explicitly set `max_features=1.0` or remove this parameter as it is also the default value for RandomForestRegressors and ExtraTreesRegressors.\n",
      "  warn(\n",
      "/Users/heic/desktop/data_projects/used_car_price_regression/env/lib/python3.11/site-packages/sklearn/ensemble/_forest.py:413: FutureWarning: `max_features='auto'` has been deprecated in 1.1 and will be removed in 1.3. To keep the past behaviour, explicitly set `max_features=1.0` or remove this parameter as it is also the default value for RandomForestRegressors and ExtraTreesRegressors.\n",
      "  warn(\n",
      "/Users/heic/desktop/data_projects/used_car_price_regression/env/lib/python3.11/site-packages/sklearn/ensemble/_forest.py:413: FutureWarning: `max_features='auto'` has been deprecated in 1.1 and will be removed in 1.3. To keep the past behaviour, explicitly set `max_features=1.0` or remove this parameter as it is also the default value for RandomForestRegressors and ExtraTreesRegressors.\n",
      "  warn(\n",
      "/Users/heic/desktop/data_projects/used_car_price_regression/env/lib/python3.11/site-packages/sklearn/ensemble/_forest.py:413: FutureWarning: `max_features='auto'` has been deprecated in 1.1 and will be removed in 1.3. To keep the past behaviour, explicitly set `max_features=1.0` or remove this parameter as it is also the default value for RandomForestRegressors and ExtraTreesRegressors.\n",
      "  warn(\n",
      "/Users/heic/desktop/data_projects/used_car_price_regression/env/lib/python3.11/site-packages/sklearn/ensemble/_forest.py:413: FutureWarning: `max_features='auto'` has been deprecated in 1.1 and will be removed in 1.3. To keep the past behaviour, explicitly set `max_features=1.0` or remove this parameter as it is also the default value for RandomForestRegressors and ExtraTreesRegressors.\n",
      "  warn(\n",
      "/Users/heic/desktop/data_projects/used_car_price_regression/env/lib/python3.11/site-packages/sklearn/ensemble/_forest.py:413: FutureWarning: `max_features='auto'` has been deprecated in 1.1 and will be removed in 1.3. To keep the past behaviour, explicitly set `max_features=1.0` or remove this parameter as it is also the default value for RandomForestRegressors and ExtraTreesRegressors.\n",
      "  warn(\n"
     ]
    },
    {
     "name": "stdout",
     "output_type": "stream",
     "text": [
      "CPU times: user 3min 6s, sys: 1.72 s, total: 3min 8s\n",
      "Wall time: 3min 8s\n"
     ]
    },
    {
     "data": {
      "text/html": [
       "<style>#sk-container-id-4 {color: black;background-color: white;}#sk-container-id-4 pre{padding: 0;}#sk-container-id-4 div.sk-toggleable {background-color: white;}#sk-container-id-4 label.sk-toggleable__label {cursor: pointer;display: block;width: 100%;margin-bottom: 0;padding: 0.3em;box-sizing: border-box;text-align: center;}#sk-container-id-4 label.sk-toggleable__label-arrow:before {content: \"▸\";float: left;margin-right: 0.25em;color: #696969;}#sk-container-id-4 label.sk-toggleable__label-arrow:hover:before {color: black;}#sk-container-id-4 div.sk-estimator:hover label.sk-toggleable__label-arrow:before {color: black;}#sk-container-id-4 div.sk-toggleable__content {max-height: 0;max-width: 0;overflow: hidden;text-align: left;background-color: #f0f8ff;}#sk-container-id-4 div.sk-toggleable__content pre {margin: 0.2em;color: black;border-radius: 0.25em;background-color: #f0f8ff;}#sk-container-id-4 input.sk-toggleable__control:checked~div.sk-toggleable__content {max-height: 200px;max-width: 100%;overflow: auto;}#sk-container-id-4 input.sk-toggleable__control:checked~label.sk-toggleable__label-arrow:before {content: \"▾\";}#sk-container-id-4 div.sk-estimator input.sk-toggleable__control:checked~label.sk-toggleable__label {background-color: #d4ebff;}#sk-container-id-4 div.sk-label input.sk-toggleable__control:checked~label.sk-toggleable__label {background-color: #d4ebff;}#sk-container-id-4 input.sk-hidden--visually {border: 0;clip: rect(1px 1px 1px 1px);clip: rect(1px, 1px, 1px, 1px);height: 1px;margin: -1px;overflow: hidden;padding: 0;position: absolute;width: 1px;}#sk-container-id-4 div.sk-estimator {font-family: monospace;background-color: #f0f8ff;border: 1px dotted black;border-radius: 0.25em;box-sizing: border-box;margin-bottom: 0.5em;}#sk-container-id-4 div.sk-estimator:hover {background-color: #d4ebff;}#sk-container-id-4 div.sk-parallel-item::after {content: \"\";width: 100%;border-bottom: 1px solid gray;flex-grow: 1;}#sk-container-id-4 div.sk-label:hover label.sk-toggleable__label {background-color: #d4ebff;}#sk-container-id-4 div.sk-serial::before {content: \"\";position: absolute;border-left: 1px solid gray;box-sizing: border-box;top: 0;bottom: 0;left: 50%;z-index: 0;}#sk-container-id-4 div.sk-serial {display: flex;flex-direction: column;align-items: center;background-color: white;padding-right: 0.2em;padding-left: 0.2em;position: relative;}#sk-container-id-4 div.sk-item {position: relative;z-index: 1;}#sk-container-id-4 div.sk-parallel {display: flex;align-items: stretch;justify-content: center;background-color: white;position: relative;}#sk-container-id-4 div.sk-item::before, #sk-container-id-4 div.sk-parallel-item::before {content: \"\";position: absolute;border-left: 1px solid gray;box-sizing: border-box;top: 0;bottom: 0;left: 50%;z-index: -1;}#sk-container-id-4 div.sk-parallel-item {display: flex;flex-direction: column;z-index: 1;position: relative;background-color: white;}#sk-container-id-4 div.sk-parallel-item:first-child::after {align-self: flex-end;width: 50%;}#sk-container-id-4 div.sk-parallel-item:last-child::after {align-self: flex-start;width: 50%;}#sk-container-id-4 div.sk-parallel-item:only-child::after {width: 0;}#sk-container-id-4 div.sk-dashed-wrapped {border: 1px dashed gray;margin: 0 0.4em 0.5em 0.4em;box-sizing: border-box;padding-bottom: 0.4em;background-color: white;}#sk-container-id-4 div.sk-label label {font-family: monospace;font-weight: bold;display: inline-block;line-height: 1.2em;}#sk-container-id-4 div.sk-label-container {text-align: center;}#sk-container-id-4 div.sk-container {/* jupyter's `normalize.less` sets `[hidden] { display: none; }` but bootstrap.min.css set `[hidden] { display: none !important; }` so we also need the `!important` here to be able to override the default hidden behavior on the sphinx rendered scikit-learn.org. See: https://github.com/scikit-learn/scikit-learn/issues/21755 */display: inline-block !important;position: relative;}#sk-container-id-4 div.sk-text-repr-fallback {display: none;}</style><div id=\"sk-container-id-4\" class=\"sk-top-container\"><div class=\"sk-text-repr-fallback\"><pre>RandomizedSearchCV(cv=5, estimator=RandomForestRegressor(), n_iter=20,\n",
       "                   param_distributions={&#x27;max_depth&#x27;: [None, 3, 5, 10],\n",
       "                                        &#x27;max_features&#x27;: [0.5, 1, &#x27;sqrt&#x27;,\n",
       "                                                         &#x27;auto&#x27;],\n",
       "                                        &#x27;max_samples&#x27;: [10000],\n",
       "                                        &#x27;min_samples_leaf&#x27;: array([ 1,  3,  5,  7,  9, 11, 13, 15, 17, 19]),\n",
       "                                        &#x27;min_samples_split&#x27;: array([ 2,  4,  6,  8, 10, 12, 14, 16, 18]),\n",
       "                                        &#x27;n_estimators&#x27;: array([10, 20, 30, 40, 50, 60, 70, 80, 90])},\n",
       "                   verbose=True)</pre><b>In a Jupyter environment, please rerun this cell to show the HTML representation or trust the notebook. <br />On GitHub, the HTML representation is unable to render, please try loading this page with nbviewer.org.</b></div><div class=\"sk-container\" hidden><div class=\"sk-item sk-dashed-wrapped\"><div class=\"sk-label-container\"><div class=\"sk-label sk-toggleable\"><input class=\"sk-toggleable__control sk-hidden--visually\" id=\"sk-estimator-id-4\" type=\"checkbox\" ><label for=\"sk-estimator-id-4\" class=\"sk-toggleable__label sk-toggleable__label-arrow\">RandomizedSearchCV</label><div class=\"sk-toggleable__content\"><pre>RandomizedSearchCV(cv=5, estimator=RandomForestRegressor(), n_iter=20,\n",
       "                   param_distributions={&#x27;max_depth&#x27;: [None, 3, 5, 10],\n",
       "                                        &#x27;max_features&#x27;: [0.5, 1, &#x27;sqrt&#x27;,\n",
       "                                                         &#x27;auto&#x27;],\n",
       "                                        &#x27;max_samples&#x27;: [10000],\n",
       "                                        &#x27;min_samples_leaf&#x27;: array([ 1,  3,  5,  7,  9, 11, 13, 15, 17, 19]),\n",
       "                                        &#x27;min_samples_split&#x27;: array([ 2,  4,  6,  8, 10, 12, 14, 16, 18]),\n",
       "                                        &#x27;n_estimators&#x27;: array([10, 20, 30, 40, 50, 60, 70, 80, 90])},\n",
       "                   verbose=True)</pre></div></div></div><div class=\"sk-parallel\"><div class=\"sk-parallel-item\"><div class=\"sk-item\"><div class=\"sk-label-container\"><div class=\"sk-label sk-toggleable\"><input class=\"sk-toggleable__control sk-hidden--visually\" id=\"sk-estimator-id-5\" type=\"checkbox\" ><label for=\"sk-estimator-id-5\" class=\"sk-toggleable__label sk-toggleable__label-arrow\">estimator: RandomForestRegressor</label><div class=\"sk-toggleable__content\"><pre>RandomForestRegressor()</pre></div></div></div><div class=\"sk-serial\"><div class=\"sk-item\"><div class=\"sk-estimator sk-toggleable\"><input class=\"sk-toggleable__control sk-hidden--visually\" id=\"sk-estimator-id-6\" type=\"checkbox\" ><label for=\"sk-estimator-id-6\" class=\"sk-toggleable__label sk-toggleable__label-arrow\">RandomForestRegressor</label><div class=\"sk-toggleable__content\"><pre>RandomForestRegressor()</pre></div></div></div></div></div></div></div></div></div></div>"
      ],
      "text/plain": [
       "RandomizedSearchCV(cv=5, estimator=RandomForestRegressor(), n_iter=20,\n",
       "                   param_distributions={'max_depth': [None, 3, 5, 10],\n",
       "                                        'max_features': [0.5, 1, 'sqrt',\n",
       "                                                         'auto'],\n",
       "                                        'max_samples': [10000],\n",
       "                                        'min_samples_leaf': array([ 1,  3,  5,  7,  9, 11, 13, 15, 17, 19]),\n",
       "                                        'min_samples_split': array([ 2,  4,  6,  8, 10, 12, 14, 16, 18]),\n",
       "                                        'n_estimators': array([10, 20, 30, 40, 50, 60, 70, 80, 90])},\n",
       "                   verbose=True)"
      ]
     },
     "execution_count": 65,
     "metadata": {},
     "output_type": "execute_result"
    }
   ],
   "source": [
    "%%time\n",
    "from sklearn.model_selection import RandomizedSearchCV\n",
    "\n",
    "# Different RandomForestClassifier hyperparameters\n",
    "rf_grid = {\"n_estimators\": np.arange(10, 100, 10),\n",
    "           \"max_depth\": [None, 3, 5, 10],\n",
    "           \"min_samples_split\": np.arange(2, 20, 2),\n",
    "           \"min_samples_leaf\": np.arange(1, 20, 2),\n",
    "           \"max_features\": [0.5, 1, \"sqrt\", \"auto\"],\n",
    "           \"max_samples\": [10000]}\n",
    "\n",
    "rs_model = RandomizedSearchCV(RandomForestRegressor(),\n",
    "                              param_distributions=rf_grid,\n",
    "                              n_iter=20,\n",
    "                              cv=5,\n",
    "                              verbose=True)\n",
    "\n",
    "rs_model.fit(X_train, y_train)"
   ]
  },
  {
   "cell_type": "code",
   "execution_count": 67,
   "id": "9475f42d",
   "metadata": {},
   "outputs": [
    {
     "data": {
      "text/plain": [
       "{'n_estimators': 90,\n",
       " 'min_samples_split': 12,\n",
       " 'min_samples_leaf': 3,\n",
       " 'max_samples': 10000,\n",
       " 'max_features': 1,\n",
       " 'max_depth': 3}"
      ]
     },
     "execution_count": 67,
     "metadata": {},
     "output_type": "execute_result"
    }
   ],
   "source": [
    "# Find the best parameters from the RandomizedSearch \n",
    "rs_model.best_params_\n"
   ]
  },
  {
   "cell_type": "code",
   "execution_count": 68,
   "id": "389c1bd2",
   "metadata": {},
   "outputs": [
    {
     "data": {
      "text/plain": [
       "{'Training MAE': 89614.56298685342,\n",
       " 'Valid MAE': 63004.522002530895,\n",
       " 'Training RMSLE': 3.433887739723532,\n",
       " 'Valid RMSLE': 3.456478729117809,\n",
       " 'Training R^2': 0.0003941519860416465,\n",
       " 'Valid R^2': -0.0006578883654830836}"
      ]
     },
     "execution_count": 68,
     "metadata": {},
     "output_type": "execute_result"
    }
   ],
   "source": [
    "# Evaluate the RandomizedSearch model\n",
    "show_scores(rs_model)"
   ]
  },
  {
   "cell_type": "markdown",
   "id": "db96af66",
   "metadata": {},
   "source": [
    "## Train a model with the best parameters\n",
    "In a model I prepared earlier, I tried 100 different combinations of hyperparameters (setting n_iter to 100 in RandomizedSearchCV) and found the best results came from the ones you see below.\n",
    "\n",
    "\n",
    "I'll instantiate a new model with these discovered hyperparameters and reset the max_samples back to its original value."
   ]
  },
  {
   "cell_type": "code",
   "execution_count": 69,
   "id": "e80b3a90",
   "metadata": {},
   "outputs": [
    {
     "name": "stdout",
     "output_type": "stream",
     "text": [
      "CPU times: user 16 s, sys: 154 ms, total: 16.2 s\n",
      "Wall time: 1.92 s\n"
     ]
    },
    {
     "data": {
      "text/html": [
       "<style>#sk-container-id-5 {color: black;background-color: white;}#sk-container-id-5 pre{padding: 0;}#sk-container-id-5 div.sk-toggleable {background-color: white;}#sk-container-id-5 label.sk-toggleable__label {cursor: pointer;display: block;width: 100%;margin-bottom: 0;padding: 0.3em;box-sizing: border-box;text-align: center;}#sk-container-id-5 label.sk-toggleable__label-arrow:before {content: \"▸\";float: left;margin-right: 0.25em;color: #696969;}#sk-container-id-5 label.sk-toggleable__label-arrow:hover:before {color: black;}#sk-container-id-5 div.sk-estimator:hover label.sk-toggleable__label-arrow:before {color: black;}#sk-container-id-5 div.sk-toggleable__content {max-height: 0;max-width: 0;overflow: hidden;text-align: left;background-color: #f0f8ff;}#sk-container-id-5 div.sk-toggleable__content pre {margin: 0.2em;color: black;border-radius: 0.25em;background-color: #f0f8ff;}#sk-container-id-5 input.sk-toggleable__control:checked~div.sk-toggleable__content {max-height: 200px;max-width: 100%;overflow: auto;}#sk-container-id-5 input.sk-toggleable__control:checked~label.sk-toggleable__label-arrow:before {content: \"▾\";}#sk-container-id-5 div.sk-estimator input.sk-toggleable__control:checked~label.sk-toggleable__label {background-color: #d4ebff;}#sk-container-id-5 div.sk-label input.sk-toggleable__control:checked~label.sk-toggleable__label {background-color: #d4ebff;}#sk-container-id-5 input.sk-hidden--visually {border: 0;clip: rect(1px 1px 1px 1px);clip: rect(1px, 1px, 1px, 1px);height: 1px;margin: -1px;overflow: hidden;padding: 0;position: absolute;width: 1px;}#sk-container-id-5 div.sk-estimator {font-family: monospace;background-color: #f0f8ff;border: 1px dotted black;border-radius: 0.25em;box-sizing: border-box;margin-bottom: 0.5em;}#sk-container-id-5 div.sk-estimator:hover {background-color: #d4ebff;}#sk-container-id-5 div.sk-parallel-item::after {content: \"\";width: 100%;border-bottom: 1px solid gray;flex-grow: 1;}#sk-container-id-5 div.sk-label:hover label.sk-toggleable__label {background-color: #d4ebff;}#sk-container-id-5 div.sk-serial::before {content: \"\";position: absolute;border-left: 1px solid gray;box-sizing: border-box;top: 0;bottom: 0;left: 50%;z-index: 0;}#sk-container-id-5 div.sk-serial {display: flex;flex-direction: column;align-items: center;background-color: white;padding-right: 0.2em;padding-left: 0.2em;position: relative;}#sk-container-id-5 div.sk-item {position: relative;z-index: 1;}#sk-container-id-5 div.sk-parallel {display: flex;align-items: stretch;justify-content: center;background-color: white;position: relative;}#sk-container-id-5 div.sk-item::before, #sk-container-id-5 div.sk-parallel-item::before {content: \"\";position: absolute;border-left: 1px solid gray;box-sizing: border-box;top: 0;bottom: 0;left: 50%;z-index: -1;}#sk-container-id-5 div.sk-parallel-item {display: flex;flex-direction: column;z-index: 1;position: relative;background-color: white;}#sk-container-id-5 div.sk-parallel-item:first-child::after {align-self: flex-end;width: 50%;}#sk-container-id-5 div.sk-parallel-item:last-child::after {align-self: flex-start;width: 50%;}#sk-container-id-5 div.sk-parallel-item:only-child::after {width: 0;}#sk-container-id-5 div.sk-dashed-wrapped {border: 1px dashed gray;margin: 0 0.4em 0.5em 0.4em;box-sizing: border-box;padding-bottom: 0.4em;background-color: white;}#sk-container-id-5 div.sk-label label {font-family: monospace;font-weight: bold;display: inline-block;line-height: 1.2em;}#sk-container-id-5 div.sk-label-container {text-align: center;}#sk-container-id-5 div.sk-container {/* jupyter's `normalize.less` sets `[hidden] { display: none; }` but bootstrap.min.css set `[hidden] { display: none !important; }` so we also need the `!important` here to be able to override the default hidden behavior on the sphinx rendered scikit-learn.org. See: https://github.com/scikit-learn/scikit-learn/issues/21755 */display: inline-block !important;position: relative;}#sk-container-id-5 div.sk-text-repr-fallback {display: none;}</style><div id=\"sk-container-id-5\" class=\"sk-top-container\"><div class=\"sk-text-repr-fallback\"><pre>RandomForestRegressor(max_features=1, min_samples_leaf=3, min_samples_split=12,\n",
       "                      n_estimators=90, n_jobs=-1)</pre><b>In a Jupyter environment, please rerun this cell to show the HTML representation or trust the notebook. <br />On GitHub, the HTML representation is unable to render, please try loading this page with nbviewer.org.</b></div><div class=\"sk-container\" hidden><div class=\"sk-item\"><div class=\"sk-estimator sk-toggleable\"><input class=\"sk-toggleable__control sk-hidden--visually\" id=\"sk-estimator-id-7\" type=\"checkbox\" checked><label for=\"sk-estimator-id-7\" class=\"sk-toggleable__label sk-toggleable__label-arrow\">RandomForestRegressor</label><div class=\"sk-toggleable__content\"><pre>RandomForestRegressor(max_features=1, min_samples_leaf=3, min_samples_split=12,\n",
       "                      n_estimators=90, n_jobs=-1)</pre></div></div></div></div></div>"
      ],
      "text/plain": [
       "RandomForestRegressor(max_features=1, min_samples_leaf=3, min_samples_split=12,\n",
       "                      n_estimators=90, n_jobs=-1)"
      ]
     },
     "execution_count": 69,
     "metadata": {},
     "output_type": "execute_result"
    }
   ],
   "source": [
    "%%time\n",
    "# Most ideal hyperparameters\n",
    "ideal_model = RandomForestRegressor(n_estimators=90,\n",
    "                                    min_samples_leaf=3,\n",
    "                                    min_samples_split=12,\n",
    "                                    max_features=1,\n",
    "                                    n_jobs=-1,\n",
    "                                    max_samples=None)\n",
    "ideal_model.fit(X_train, y_train)"
   ]
  },
  {
   "cell_type": "code",
   "execution_count": 70,
   "id": "ec95df09",
   "metadata": {},
   "outputs": [
    {
     "data": {
      "text/plain": [
       "{'Training MAE': 84388.14397820046,\n",
       " 'Valid MAE': 70114.97724327013,\n",
       " 'Training RMSLE': 2.8766723215256995,\n",
       " 'Valid RMSLE': 2.9463706647028762,\n",
       " 'Training R^2': 0.26977534954603033,\n",
       " 'Valid R^2': 0.023406392770047302}"
      ]
     },
     "execution_count": 70,
     "metadata": {},
     "output_type": "execute_result"
    }
   ],
   "source": [
    "show_scores(ideal_model)"
   ]
  },
  {
   "cell_type": "markdown",
   "id": "83598050",
   "metadata": {},
   "source": [
    "With these new hyperparameters as well as using all the samples, I can see an improvement to our models performance.\n",
    "\n",
    "Faster model by altering some of the hyperparameters, particularly by lowering n_estimators since each increase in n_estimators is basically building another small model.\n",
    "\n",
    "However, lowering of n_estimators or altering of other hyperparameters may lead to poorer results."
   ]
  },
  {
   "cell_type": "code",
   "execution_count": 71,
   "id": "e067e56a",
   "metadata": {},
   "outputs": [
    {
     "name": "stdout",
     "output_type": "stream",
     "text": [
      "CPU times: user 1min 38s, sys: 286 ms, total: 1min 39s\n",
      "Wall time: 11.5 s\n"
     ]
    },
    {
     "data": {
      "text/html": [
       "<style>#sk-container-id-6 {color: black;background-color: white;}#sk-container-id-6 pre{padding: 0;}#sk-container-id-6 div.sk-toggleable {background-color: white;}#sk-container-id-6 label.sk-toggleable__label {cursor: pointer;display: block;width: 100%;margin-bottom: 0;padding: 0.3em;box-sizing: border-box;text-align: center;}#sk-container-id-6 label.sk-toggleable__label-arrow:before {content: \"▸\";float: left;margin-right: 0.25em;color: #696969;}#sk-container-id-6 label.sk-toggleable__label-arrow:hover:before {color: black;}#sk-container-id-6 div.sk-estimator:hover label.sk-toggleable__label-arrow:before {color: black;}#sk-container-id-6 div.sk-toggleable__content {max-height: 0;max-width: 0;overflow: hidden;text-align: left;background-color: #f0f8ff;}#sk-container-id-6 div.sk-toggleable__content pre {margin: 0.2em;color: black;border-radius: 0.25em;background-color: #f0f8ff;}#sk-container-id-6 input.sk-toggleable__control:checked~div.sk-toggleable__content {max-height: 200px;max-width: 100%;overflow: auto;}#sk-container-id-6 input.sk-toggleable__control:checked~label.sk-toggleable__label-arrow:before {content: \"▾\";}#sk-container-id-6 div.sk-estimator input.sk-toggleable__control:checked~label.sk-toggleable__label {background-color: #d4ebff;}#sk-container-id-6 div.sk-label input.sk-toggleable__control:checked~label.sk-toggleable__label {background-color: #d4ebff;}#sk-container-id-6 input.sk-hidden--visually {border: 0;clip: rect(1px 1px 1px 1px);clip: rect(1px, 1px, 1px, 1px);height: 1px;margin: -1px;overflow: hidden;padding: 0;position: absolute;width: 1px;}#sk-container-id-6 div.sk-estimator {font-family: monospace;background-color: #f0f8ff;border: 1px dotted black;border-radius: 0.25em;box-sizing: border-box;margin-bottom: 0.5em;}#sk-container-id-6 div.sk-estimator:hover {background-color: #d4ebff;}#sk-container-id-6 div.sk-parallel-item::after {content: \"\";width: 100%;border-bottom: 1px solid gray;flex-grow: 1;}#sk-container-id-6 div.sk-label:hover label.sk-toggleable__label {background-color: #d4ebff;}#sk-container-id-6 div.sk-serial::before {content: \"\";position: absolute;border-left: 1px solid gray;box-sizing: border-box;top: 0;bottom: 0;left: 50%;z-index: 0;}#sk-container-id-6 div.sk-serial {display: flex;flex-direction: column;align-items: center;background-color: white;padding-right: 0.2em;padding-left: 0.2em;position: relative;}#sk-container-id-6 div.sk-item {position: relative;z-index: 1;}#sk-container-id-6 div.sk-parallel {display: flex;align-items: stretch;justify-content: center;background-color: white;position: relative;}#sk-container-id-6 div.sk-item::before, #sk-container-id-6 div.sk-parallel-item::before {content: \"\";position: absolute;border-left: 1px solid gray;box-sizing: border-box;top: 0;bottom: 0;left: 50%;z-index: -1;}#sk-container-id-6 div.sk-parallel-item {display: flex;flex-direction: column;z-index: 1;position: relative;background-color: white;}#sk-container-id-6 div.sk-parallel-item:first-child::after {align-self: flex-end;width: 50%;}#sk-container-id-6 div.sk-parallel-item:last-child::after {align-self: flex-start;width: 50%;}#sk-container-id-6 div.sk-parallel-item:only-child::after {width: 0;}#sk-container-id-6 div.sk-dashed-wrapped {border: 1px dashed gray;margin: 0 0.4em 0.5em 0.4em;box-sizing: border-box;padding-bottom: 0.4em;background-color: white;}#sk-container-id-6 div.sk-label label {font-family: monospace;font-weight: bold;display: inline-block;line-height: 1.2em;}#sk-container-id-6 div.sk-label-container {text-align: center;}#sk-container-id-6 div.sk-container {/* jupyter's `normalize.less` sets `[hidden] { display: none; }` but bootstrap.min.css set `[hidden] { display: none !important; }` so we also need the `!important` here to be able to override the default hidden behavior on the sphinx rendered scikit-learn.org. See: https://github.com/scikit-learn/scikit-learn/issues/21755 */display: inline-block !important;position: relative;}#sk-container-id-6 div.sk-text-repr-fallback {display: none;}</style><div id=\"sk-container-id-6\" class=\"sk-top-container\"><div class=\"sk-text-repr-fallback\"><pre>RandomForestRegressor(max_features=0.5, min_samples_leaf=3, n_estimators=40,\n",
       "                      n_jobs=-1)</pre><b>In a Jupyter environment, please rerun this cell to show the HTML representation or trust the notebook. <br />On GitHub, the HTML representation is unable to render, please try loading this page with nbviewer.org.</b></div><div class=\"sk-container\" hidden><div class=\"sk-item\"><div class=\"sk-estimator sk-toggleable\"><input class=\"sk-toggleable__control sk-hidden--visually\" id=\"sk-estimator-id-8\" type=\"checkbox\" checked><label for=\"sk-estimator-id-8\" class=\"sk-toggleable__label sk-toggleable__label-arrow\">RandomForestRegressor</label><div class=\"sk-toggleable__content\"><pre>RandomForestRegressor(max_features=0.5, min_samples_leaf=3, n_estimators=40,\n",
       "                      n_jobs=-1)</pre></div></div></div></div></div>"
      ],
      "text/plain": [
       "RandomForestRegressor(max_features=0.5, min_samples_leaf=3, n_estimators=40,\n",
       "                      n_jobs=-1)"
      ]
     },
     "execution_count": 71,
     "metadata": {},
     "output_type": "execute_result"
    }
   ],
   "source": [
    "%%time\n",
    "# Faster model\n",
    "fast_model = RandomForestRegressor(n_estimators=40,\n",
    "                                   min_samples_leaf=3,\n",
    "                                   max_features=0.5,\n",
    "                                   n_jobs=-1)\n",
    "fast_model.fit(X_train, y_train)"
   ]
  },
  {
   "cell_type": "code",
   "execution_count": 72,
   "id": "796a398a",
   "metadata": {},
   "outputs": [
    {
     "data": {
      "text/plain": [
       "{'Training MAE': 76550.94362847843,\n",
       " 'Valid MAE': 64133.80635824257,\n",
       " 'Training RMSLE': 2.283628784653436,\n",
       " 'Valid RMSLE': 2.4939602770091827,\n",
       " 'Training R^2': 0.37512896796242456,\n",
       " 'Valid R^2': -0.034871408022424166}"
      ]
     },
     "execution_count": 72,
     "metadata": {},
     "output_type": "execute_result"
    }
   ],
   "source": [
    "show_scores(fast_model)"
   ]
  },
  {
   "cell_type": "markdown",
   "id": "d1182c9d",
   "metadata": {},
   "source": [
    "## Make predictions on test data\n",
    "Now I've got a trained model, it's time to make predictions on the test data.\n"
   ]
  },
  {
   "cell_type": "code",
   "execution_count": 73,
   "id": "d3f9512b",
   "metadata": {},
   "outputs": [
    {
     "data": {
      "text/html": [
       "<div>\n",
       "<style scoped>\n",
       "    .dataframe tbody tr th:only-of-type {\n",
       "        vertical-align: middle;\n",
       "    }\n",
       "\n",
       "    .dataframe tbody tr th {\n",
       "        vertical-align: top;\n",
       "    }\n",
       "\n",
       "    .dataframe thead th {\n",
       "        text-align: right;\n",
       "    }\n",
       "</style>\n",
       "<table border=\"1\" class=\"dataframe\">\n",
       "  <thead>\n",
       "    <tr style=\"text-align: right;\">\n",
       "      <th></th>\n",
       "      <th>id</th>\n",
       "      <th>url</th>\n",
       "      <th>region</th>\n",
       "      <th>region_url</th>\n",
       "      <th>year</th>\n",
       "      <th>manufacturer</th>\n",
       "      <th>model</th>\n",
       "      <th>condition</th>\n",
       "      <th>cylinders</th>\n",
       "      <th>fuel</th>\n",
       "      <th>...</th>\n",
       "      <th>transmission_is_missing</th>\n",
       "      <th>VIN_is_missing</th>\n",
       "      <th>drive_is_missing</th>\n",
       "      <th>size_is_missing</th>\n",
       "      <th>type_is_missing</th>\n",
       "      <th>paint_color_is_missing</th>\n",
       "      <th>image_url_is_missing</th>\n",
       "      <th>description_is_missing</th>\n",
       "      <th>state_is_missing</th>\n",
       "      <th>posting_date_is_missing</th>\n",
       "    </tr>\n",
       "  </thead>\n",
       "  <tbody>\n",
       "    <tr>\n",
       "      <th>100905</th>\n",
       "      <td>7315883828</td>\n",
       "      <td>191911</td>\n",
       "      <td>182</td>\n",
       "      <td>186</td>\n",
       "      <td>2017.0</td>\n",
       "      <td>14</td>\n",
       "      <td>15259</td>\n",
       "      <td>3</td>\n",
       "      <td>6</td>\n",
       "      <td>3</td>\n",
       "      <td>...</td>\n",
       "      <td>False</td>\n",
       "      <td>False</td>\n",
       "      <td>False</td>\n",
       "      <td>True</td>\n",
       "      <td>False</td>\n",
       "      <td>False</td>\n",
       "      <td>False</td>\n",
       "      <td>False</td>\n",
       "      <td>False</td>\n",
       "      <td>False</td>\n",
       "    </tr>\n",
       "    <tr>\n",
       "      <th>143835</th>\n",
       "      <td>7314599643</td>\n",
       "      <td>305934</td>\n",
       "      <td>282</td>\n",
       "      <td>293</td>\n",
       "      <td>2006.0</td>\n",
       "      <td>8</td>\n",
       "      <td>11430</td>\n",
       "      <td>3</td>\n",
       "      <td>7</td>\n",
       "      <td>3</td>\n",
       "      <td>...</td>\n",
       "      <td>False</td>\n",
       "      <td>True</td>\n",
       "      <td>False</td>\n",
       "      <td>True</td>\n",
       "      <td>False</td>\n",
       "      <td>False</td>\n",
       "      <td>False</td>\n",
       "      <td>False</td>\n",
       "      <td>False</td>\n",
       "      <td>False</td>\n",
       "    </tr>\n",
       "    <tr>\n",
       "      <th>20235</th>\n",
       "      <td>7308399808</td>\n",
       "      <td>202450</td>\n",
       "      <td>195</td>\n",
       "      <td>199</td>\n",
       "      <td>2015.0</td>\n",
       "      <td>8</td>\n",
       "      <td>11430</td>\n",
       "      <td>0</td>\n",
       "      <td>7</td>\n",
       "      <td>3</td>\n",
       "      <td>...</td>\n",
       "      <td>False</td>\n",
       "      <td>True</td>\n",
       "      <td>False</td>\n",
       "      <td>True</td>\n",
       "      <td>False</td>\n",
       "      <td>True</td>\n",
       "      <td>False</td>\n",
       "      <td>False</td>\n",
       "      <td>False</td>\n",
       "      <td>False</td>\n",
       "    </tr>\n",
       "    <tr>\n",
       "      <th>300734</th>\n",
       "      <td>7312663807</td>\n",
       "      <td>413116</td>\n",
       "      <td>246</td>\n",
       "      <td>398</td>\n",
       "      <td>2013.0</td>\n",
       "      <td>5</td>\n",
       "      <td>2685</td>\n",
       "      <td>0</td>\n",
       "      <td>0</td>\n",
       "      <td>3</td>\n",
       "      <td>...</td>\n",
       "      <td>False</td>\n",
       "      <td>True</td>\n",
       "      <td>True</td>\n",
       "      <td>True</td>\n",
       "      <td>True</td>\n",
       "      <td>True</td>\n",
       "      <td>False</td>\n",
       "      <td>False</td>\n",
       "      <td>False</td>\n",
       "      <td>False</td>\n",
       "    </tr>\n",
       "    <tr>\n",
       "      <th>316249</th>\n",
       "      <td>7315368523</td>\n",
       "      <td>116757</td>\n",
       "      <td>101</td>\n",
       "      <td>108</td>\n",
       "      <td>2019.0</td>\n",
       "      <td>8</td>\n",
       "      <td>26076</td>\n",
       "      <td>0</td>\n",
       "      <td>7</td>\n",
       "      <td>5</td>\n",
       "      <td>...</td>\n",
       "      <td>False</td>\n",
       "      <td>False</td>\n",
       "      <td>True</td>\n",
       "      <td>True</td>\n",
       "      <td>True</td>\n",
       "      <td>False</td>\n",
       "      <td>False</td>\n",
       "      <td>False</td>\n",
       "      <td>False</td>\n",
       "      <td>False</td>\n",
       "    </tr>\n",
       "  </tbody>\n",
       "</table>\n",
       "<p>5 rows × 43 columns</p>\n",
       "</div>"
      ],
      "text/plain": [
       "                id     url  region  region_url    year  manufacturer  model  \\\n",
       "100905  7315883828  191911     182         186  2017.0            14  15259   \n",
       "143835  7314599643  305934     282         293  2006.0             8  11430   \n",
       "20235   7308399808  202450     195         199  2015.0             8  11430   \n",
       "300734  7312663807  413116     246         398  2013.0             5   2685   \n",
       "316249  7315368523  116757     101         108  2019.0             8  26076   \n",
       "\n",
       "        condition  cylinders  fuel  ...  transmission_is_missing  \\\n",
       "100905          3          6     3  ...                    False   \n",
       "143835          3          7     3  ...                    False   \n",
       "20235           0          7     3  ...                    False   \n",
       "300734          0          0     3  ...                    False   \n",
       "316249          0          7     5  ...                    False   \n",
       "\n",
       "        VIN_is_missing  drive_is_missing  size_is_missing  type_is_missing  \\\n",
       "100905           False             False             True            False   \n",
       "143835            True             False             True            False   \n",
       "20235             True             False             True            False   \n",
       "300734            True              True             True             True   \n",
       "316249           False              True             True             True   \n",
       "\n",
       "        paint_color_is_missing  image_url_is_missing  description_is_missing  \\\n",
       "100905                   False                 False                   False   \n",
       "143835                   False                 False                   False   \n",
       "20235                     True                 False                   False   \n",
       "300734                    True                 False                   False   \n",
       "316249                   False                 False                   False   \n",
       "\n",
       "        state_is_missing  posting_date_is_missing  \n",
       "100905             False                    False  \n",
       "143835             False                    False  \n",
       "20235              False                    False  \n",
       "300734             False                    False  \n",
       "316249             False                    False  \n",
       "\n",
       "[5 rows x 43 columns]"
      ]
     },
     "execution_count": 73,
     "metadata": {},
     "output_type": "execute_result"
    }
   ],
   "source": [
    "X_test.head()"
   ]
  },
  {
   "cell_type": "code",
   "execution_count": 74,
   "id": "bc0c311f",
   "metadata": {},
   "outputs": [
    {
     "data": {
      "text/html": [
       "<div>\n",
       "<style scoped>\n",
       "    .dataframe tbody tr th:only-of-type {\n",
       "        vertical-align: middle;\n",
       "    }\n",
       "\n",
       "    .dataframe tbody tr th {\n",
       "        vertical-align: top;\n",
       "    }\n",
       "\n",
       "    .dataframe thead th {\n",
       "        text-align: right;\n",
       "    }\n",
       "</style>\n",
       "<table border=\"1\" class=\"dataframe\">\n",
       "  <thead>\n",
       "    <tr style=\"text-align: right;\">\n",
       "      <th></th>\n",
       "      <th>id</th>\n",
       "      <th>url</th>\n",
       "      <th>region</th>\n",
       "      <th>region_url</th>\n",
       "      <th>year</th>\n",
       "      <th>manufacturer</th>\n",
       "      <th>model</th>\n",
       "      <th>condition</th>\n",
       "      <th>cylinders</th>\n",
       "      <th>fuel</th>\n",
       "      <th>...</th>\n",
       "      <th>transmission_is_missing</th>\n",
       "      <th>VIN_is_missing</th>\n",
       "      <th>drive_is_missing</th>\n",
       "      <th>size_is_missing</th>\n",
       "      <th>type_is_missing</th>\n",
       "      <th>paint_color_is_missing</th>\n",
       "      <th>image_url_is_missing</th>\n",
       "      <th>description_is_missing</th>\n",
       "      <th>state_is_missing</th>\n",
       "      <th>posting_date_is_missing</th>\n",
       "    </tr>\n",
       "  </thead>\n",
       "  <tbody>\n",
       "    <tr>\n",
       "      <th>298217</th>\n",
       "      <td>7315562964</td>\n",
       "      <td>94849</td>\n",
       "      <td>75</td>\n",
       "      <td>84</td>\n",
       "      <td>2007.0</td>\n",
       "      <td>17</td>\n",
       "      <td>11841</td>\n",
       "      <td>2</td>\n",
       "      <td>4</td>\n",
       "      <td>3</td>\n",
       "      <td>...</td>\n",
       "      <td>False</td>\n",
       "      <td>True</td>\n",
       "      <td>False</td>\n",
       "      <td>True</td>\n",
       "      <td>True</td>\n",
       "      <td>True</td>\n",
       "      <td>False</td>\n",
       "      <td>False</td>\n",
       "      <td>False</td>\n",
       "      <td>False</td>\n",
       "    </tr>\n",
       "    <tr>\n",
       "      <th>108574</th>\n",
       "      <td>7314551836</td>\n",
       "      <td>343474</td>\n",
       "      <td>309</td>\n",
       "      <td>323</td>\n",
       "      <td>2005.0</td>\n",
       "      <td>0</td>\n",
       "      <td>16</td>\n",
       "      <td>0</td>\n",
       "      <td>0</td>\n",
       "      <td>3</td>\n",
       "      <td>...</td>\n",
       "      <td>False</td>\n",
       "      <td>True</td>\n",
       "      <td>True</td>\n",
       "      <td>True</td>\n",
       "      <td>True</td>\n",
       "      <td>True</td>\n",
       "      <td>False</td>\n",
       "      <td>False</td>\n",
       "      <td>False</td>\n",
       "      <td>False</td>\n",
       "    </tr>\n",
       "    <tr>\n",
       "      <th>69187</th>\n",
       "      <td>7315850853</td>\n",
       "      <td>402604</td>\n",
       "      <td>378</td>\n",
       "      <td>387</td>\n",
       "      <td>2003.0</td>\n",
       "      <td>21</td>\n",
       "      <td>28594</td>\n",
       "      <td>1</td>\n",
       "      <td>6</td>\n",
       "      <td>3</td>\n",
       "      <td>...</td>\n",
       "      <td>False</td>\n",
       "      <td>True</td>\n",
       "      <td>False</td>\n",
       "      <td>False</td>\n",
       "      <td>False</td>\n",
       "      <td>False</td>\n",
       "      <td>False</td>\n",
       "      <td>False</td>\n",
       "      <td>False</td>\n",
       "      <td>False</td>\n",
       "    </tr>\n",
       "    <tr>\n",
       "      <th>168535</th>\n",
       "      <td>7305728413</td>\n",
       "      <td>385625</td>\n",
       "      <td>362</td>\n",
       "      <td>372</td>\n",
       "      <td>2019.0</td>\n",
       "      <td>17</td>\n",
       "      <td>10777</td>\n",
       "      <td>3</td>\n",
       "      <td>0</td>\n",
       "      <td>3</td>\n",
       "      <td>...</td>\n",
       "      <td>False</td>\n",
       "      <td>False</td>\n",
       "      <td>False</td>\n",
       "      <td>True</td>\n",
       "      <td>False</td>\n",
       "      <td>False</td>\n",
       "      <td>False</td>\n",
       "      <td>False</td>\n",
       "      <td>False</td>\n",
       "      <td>False</td>\n",
       "    </tr>\n",
       "    <tr>\n",
       "      <th>16825</th>\n",
       "      <td>7315744489</td>\n",
       "      <td>426469</td>\n",
       "      <td>403</td>\n",
       "      <td>412</td>\n",
       "      <td>2007.0</td>\n",
       "      <td>40</td>\n",
       "      <td>16020</td>\n",
       "      <td>3</td>\n",
       "      <td>6</td>\n",
       "      <td>3</td>\n",
       "      <td>...</td>\n",
       "      <td>False</td>\n",
       "      <td>True</td>\n",
       "      <td>False</td>\n",
       "      <td>False</td>\n",
       "      <td>False</td>\n",
       "      <td>False</td>\n",
       "      <td>False</td>\n",
       "      <td>False</td>\n",
       "      <td>False</td>\n",
       "      <td>False</td>\n",
       "    </tr>\n",
       "  </tbody>\n",
       "</table>\n",
       "<p>5 rows × 43 columns</p>\n",
       "</div>"
      ],
      "text/plain": [
       "                id     url  region  region_url    year  manufacturer  model  \\\n",
       "298217  7315562964   94849      75          84  2007.0            17  11841   \n",
       "108574  7314551836  343474     309         323  2005.0             0     16   \n",
       "69187   7315850853  402604     378         387  2003.0            21  28594   \n",
       "168535  7305728413  385625     362         372  2019.0            17  10777   \n",
       "16825   7315744489  426469     403         412  2007.0            40  16020   \n",
       "\n",
       "        condition  cylinders  fuel  ...  transmission_is_missing  \\\n",
       "298217          2          4     3  ...                    False   \n",
       "108574          0          0     3  ...                    False   \n",
       "69187           1          6     3  ...                    False   \n",
       "168535          3          0     3  ...                    False   \n",
       "16825           3          6     3  ...                    False   \n",
       "\n",
       "        VIN_is_missing  drive_is_missing  size_is_missing  type_is_missing  \\\n",
       "298217            True             False             True             True   \n",
       "108574            True              True             True             True   \n",
       "69187             True             False            False            False   \n",
       "168535           False             False             True            False   \n",
       "16825             True             False            False            False   \n",
       "\n",
       "        paint_color_is_missing  image_url_is_missing  description_is_missing  \\\n",
       "298217                    True                 False                   False   \n",
       "108574                    True                 False                   False   \n",
       "69187                    False                 False                   False   \n",
       "168535                   False                 False                   False   \n",
       "16825                    False                 False                   False   \n",
       "\n",
       "        state_is_missing  posting_date_is_missing  \n",
       "298217             False                    False  \n",
       "108574             False                    False  \n",
       "69187              False                    False  \n",
       "168535             False                    False  \n",
       "16825              False                    False  \n",
       "\n",
       "[5 rows x 43 columns]"
      ]
     },
     "execution_count": 74,
     "metadata": {},
     "output_type": "execute_result"
    }
   ],
   "source": [
    "X_train.head()"
   ]
  },
  {
   "cell_type": "code",
   "execution_count": 75,
   "id": "bef8358f",
   "metadata": {},
   "outputs": [
    {
     "data": {
      "text/plain": [
       "array([31172.02, 10551.36, 36052.41, ..., 14629.39,  6309.9 , 33251.82])"
      ]
     },
     "execution_count": 75,
     "metadata": {},
     "output_type": "execute_result"
    }
   ],
   "source": [
    "# Let's see how the model goes predicting on the test data\n",
    "model.predict(X_test)"
   ]
  },
  {
   "cell_type": "code",
   "execution_count": 76,
   "id": "76530ad2",
   "metadata": {},
   "outputs": [],
   "source": [
    "# Make predictions on the test dataset using the best model\n",
    "test_preds = ideal_model.predict(X_test)"
   ]
  },
  {
   "cell_type": "code",
   "execution_count": 77,
   "id": "485d94bd",
   "metadata": {},
   "outputs": [
    {
     "data": {
      "text/plain": [
       "array([30027.12811657, 17331.210824  , 28053.24961785, ...,\n",
       "       11971.08697556, 10235.53112008, 23064.73714957])"
      ]
     },
     "execution_count": 77,
     "metadata": {},
     "output_type": "execute_result"
    }
   ],
   "source": [
    "test_preds"
   ]
  },
  {
   "cell_type": "code",
   "execution_count": 78,
   "id": "929f81d5",
   "metadata": {},
   "outputs": [
    {
     "data": {
      "text/plain": [
       "85376"
      ]
     },
     "execution_count": 78,
     "metadata": {},
     "output_type": "execute_result"
    }
   ],
   "source": [
    "len(test_preds)"
   ]
  },
  {
   "cell_type": "code",
   "execution_count": 80,
   "id": "4696e0c7",
   "metadata": {},
   "outputs": [
    {
     "data": {
      "text/html": [
       "<div>\n",
       "<style scoped>\n",
       "    .dataframe tbody tr th:only-of-type {\n",
       "        vertical-align: middle;\n",
       "    }\n",
       "\n",
       "    .dataframe tbody tr th {\n",
       "        vertical-align: top;\n",
       "    }\n",
       "\n",
       "    .dataframe thead th {\n",
       "        text-align: right;\n",
       "    }\n",
       "</style>\n",
       "<table border=\"1\" class=\"dataframe\">\n",
       "  <thead>\n",
       "    <tr style=\"text-align: right;\">\n",
       "      <th></th>\n",
       "      <th>id</th>\n",
       "      <th>price</th>\n",
       "    </tr>\n",
       "  </thead>\n",
       "  <tbody>\n",
       "    <tr>\n",
       "      <th>100905</th>\n",
       "      <td>7315883828</td>\n",
       "      <td>30027.128117</td>\n",
       "    </tr>\n",
       "    <tr>\n",
       "      <th>143835</th>\n",
       "      <td>7314599643</td>\n",
       "      <td>17331.210824</td>\n",
       "    </tr>\n",
       "    <tr>\n",
       "      <th>20235</th>\n",
       "      <td>7308399808</td>\n",
       "      <td>28053.249618</td>\n",
       "    </tr>\n",
       "    <tr>\n",
       "      <th>300734</th>\n",
       "      <td>7312663807</td>\n",
       "      <td>12591.592835</td>\n",
       "    </tr>\n",
       "    <tr>\n",
       "      <th>316249</th>\n",
       "      <td>7315368523</td>\n",
       "      <td>14953.130691</td>\n",
       "    </tr>\n",
       "    <tr>\n",
       "      <th>...</th>\n",
       "      <td>...</td>\n",
       "      <td>...</td>\n",
       "    </tr>\n",
       "    <tr>\n",
       "      <th>285104</th>\n",
       "      <td>7312059554</td>\n",
       "      <td>4758.473557</td>\n",
       "    </tr>\n",
       "    <tr>\n",
       "      <th>204282</th>\n",
       "      <td>7314862430</td>\n",
       "      <td>12882.048834</td>\n",
       "    </tr>\n",
       "    <tr>\n",
       "      <th>418859</th>\n",
       "      <td>7307868920</td>\n",
       "      <td>11971.086976</td>\n",
       "    </tr>\n",
       "    <tr>\n",
       "      <th>93858</th>\n",
       "      <td>7316839788</td>\n",
       "      <td>10235.531120</td>\n",
       "    </tr>\n",
       "    <tr>\n",
       "      <th>374513</th>\n",
       "      <td>7316695527</td>\n",
       "      <td>23064.737150</td>\n",
       "    </tr>\n",
       "  </tbody>\n",
       "</table>\n",
       "<p>85376 rows × 2 columns</p>\n",
       "</div>"
      ],
      "text/plain": [
       "                id         price\n",
       "100905  7315883828  30027.128117\n",
       "143835  7314599643  17331.210824\n",
       "20235   7308399808  28053.249618\n",
       "300734  7312663807  12591.592835\n",
       "316249  7315368523  14953.130691\n",
       "...            ...           ...\n",
       "285104  7312059554   4758.473557\n",
       "204282  7314862430  12882.048834\n",
       "418859  7307868920  11971.086976\n",
       "93858   7316839788  10235.531120\n",
       "374513  7316695527  23064.737150\n",
       "\n",
       "[85376 rows x 2 columns]"
      ]
     },
     "execution_count": 80,
     "metadata": {},
     "output_type": "execute_result"
    }
   ],
   "source": [
    "# Create DataFrame compatible with Kaggle submission requirements\n",
    "df_preds = pd.DataFrame()\n",
    "df_preds[\"id\"] = X_test[\"id\"]\n",
    "df_preds[\"price\"] = test_preds\n",
    "df_preds"
   ]
  },
  {
   "cell_type": "code",
   "execution_count": 81,
   "id": "191beb34",
   "metadata": {},
   "outputs": [],
   "source": [
    "# Export prediction data\n",
    "df_preds.to_csv(\"test_used_cars_predictions.csv\", index=False)"
   ]
  },
  {
   "cell_type": "markdown",
   "id": "63e21ca1",
   "metadata": {},
   "source": [
    "# Find feature importance of our best model\n"
   ]
  },
  {
   "cell_type": "code",
   "execution_count": 82,
   "id": "5980855c",
   "metadata": {},
   "outputs": [
    {
     "data": {
      "text/plain": [
       "array([8.92425660e-02, 5.61627246e-02, 2.54856728e-02, 2.40071884e-02,\n",
       "       6.87064976e-02, 4.06009335e-02, 9.64100969e-02, 7.70596597e-03,\n",
       "       4.05322568e-03, 5.45483076e-03, 7.84295276e-02, 1.22200082e-04,\n",
       "       9.80346695e-03, 6.60373529e-03, 9.74440623e-03, 1.09388748e-02,\n",
       "       1.26850000e-02, 8.24777908e-03, 5.27977230e-02, 6.21066694e-02,\n",
       "       4.11829517e-02, 8.47016190e-02, 5.57304083e-02, 1.14376316e-01,\n",
       "       0.00000000e+00, 0.00000000e+00, 0.00000000e+00, 4.39202349e-04,\n",
       "       1.83157195e-03, 1.35538574e-03, 7.47033879e-03, 1.58036349e-05,\n",
       "       1.77372869e-05, 7.53512530e-07, 1.35928317e-03, 8.11567736e-03,\n",
       "       2.54642472e-03, 8.19540817e-03, 3.35165662e-03, 1.86000672e-08,\n",
       "       2.29518701e-07, 0.00000000e+00, 1.29348939e-07])"
      ]
     },
     "execution_count": 82,
     "metadata": {},
     "output_type": "execute_result"
    }
   ],
   "source": [
    "# Find feature importance of our best model\n",
    "ideal_model.feature_importances_"
   ]
  },
  {
   "cell_type": "code",
   "execution_count": 83,
   "id": "051c875b",
   "metadata": {},
   "outputs": [
    {
     "name": "stdout",
     "output_type": "stream",
     "text": [
      "Requirement already satisfied: seaborn in ./env/lib/python3.11/site-packages (0.12.2)\n",
      "Requirement already satisfied: numpy!=1.24.0,>=1.17 in ./env/lib/python3.11/site-packages (from seaborn) (1.24.3)\n",
      "Requirement already satisfied: pandas>=0.25 in ./env/lib/python3.11/site-packages (from seaborn) (1.5.3)\n",
      "Requirement already satisfied: matplotlib!=3.6.1,>=3.1 in ./env/lib/python3.11/site-packages (from seaborn) (3.7.1)\n",
      "Requirement already satisfied: contourpy>=1.0.1 in ./env/lib/python3.11/site-packages (from matplotlib!=3.6.1,>=3.1->seaborn) (1.0.5)\n",
      "Requirement already satisfied: cycler>=0.10 in ./env/lib/python3.11/site-packages (from matplotlib!=3.6.1,>=3.1->seaborn) (0.11.0)\n",
      "Requirement already satisfied: fonttools>=4.22.0 in ./env/lib/python3.11/site-packages (from matplotlib!=3.6.1,>=3.1->seaborn) (4.25.0)\n",
      "Requirement already satisfied: kiwisolver>=1.0.1 in ./env/lib/python3.11/site-packages (from matplotlib!=3.6.1,>=3.1->seaborn) (1.4.4)\n",
      "Requirement already satisfied: packaging>=20.0 in ./env/lib/python3.11/site-packages (from matplotlib!=3.6.1,>=3.1->seaborn) (23.0)\n",
      "Requirement already satisfied: pillow>=6.2.0 in ./env/lib/python3.11/site-packages (from matplotlib!=3.6.1,>=3.1->seaborn) (9.4.0)\n",
      "Requirement already satisfied: pyparsing>=2.3.1 in ./env/lib/python3.11/site-packages (from matplotlib!=3.6.1,>=3.1->seaborn) (3.0.9)\n",
      "Requirement already satisfied: python-dateutil>=2.7 in ./env/lib/python3.11/site-packages (from matplotlib!=3.6.1,>=3.1->seaborn) (2.8.2)\n",
      "Requirement already satisfied: pytz>=2020.1 in ./env/lib/python3.11/site-packages (from pandas>=0.25->seaborn) (2022.7)\n",
      "Requirement already satisfied: six>=1.5 in ./env/lib/python3.11/site-packages (from python-dateutil>=2.7->matplotlib!=3.6.1,>=3.1->seaborn) (1.16.0)\n",
      "Retrieving notices: ...working... done\n",
      "Collecting package metadata (current_repodata.json): done\n",
      "Solving environment: done\n",
      "\n",
      "\n",
      "==> WARNING: A newer version of conda exists. <==\n",
      "  current version: 22.11.1\n",
      "  latest version: 23.5.0\n",
      "\n",
      "Please update conda by running\n",
      "\n",
      "    $ conda update -n base -c defaults conda\n",
      "\n",
      "Or to minimize the number of packages updated during conda update use\n",
      "\n",
      "     conda install conda=23.5.0\n",
      "\n",
      "\n",
      "\n",
      "# All requested packages already installed.\n",
      "\n"
     ]
    }
   ],
   "source": [
    "!pip install seaborn\n",
    "\n",
    "import seaborn as sns\n",
    "import sys\n",
    "!conda install --yes --prefix {sys.prefix} seaborn\n"
   ]
  },
  {
   "cell_type": "code",
   "execution_count": 84,
   "id": "c23173c1",
   "metadata": {},
   "outputs": [],
   "source": [
    "# Helper function for plotting feature importance\n",
    "def plot_features(columns, importances, n=20):\n",
    "    df = (pd.DataFrame({\"features\": columns,\n",
    "                        \"feature_importances\": importances})\n",
    "          .sort_values(\"feature_importances\", ascending=False)\n",
    "          .reset_index(drop=True))\n",
    "    \n",
    "    # Plot the dataframe\n",
    "    fig, ax = plt.subplots()\n",
    "    ax.barh(df[\"features\"][:n], df[\"feature_importances\"][:20])\n",
    "    ax.set_ylabel(\"Features\")\n",
    "    ax.set_xlabel(\"Feature importance\")\n",
    "    ax.invert_yaxis()"
   ]
  },
  {
   "cell_type": "code",
   "execution_count": 85,
   "id": "3bcc90e5",
   "metadata": {},
   "outputs": [
    {
     "data": {
      "image/png": "[encoded data removed]",
      "text/plain": [
       "<Figure size 640x480 with 1 Axes>"
      ]
     },
     "metadata": {},
     "output_type": "display_data"
    }
   ],
   "source": [
    "plot_features(X_train.columns, ideal_model.feature_importances_)"
   ]
  },
  {
   "cell_type": "code",
   "execution_count": 86,
   "id": "5c2457fa",
   "metadata": {},
   "outputs": [
    {
     "data": {
      "text/plain": [
       "0.9999999999999998"
      ]
     },
     "execution_count": 86,
     "metadata": {},
     "output_type": "execute_result"
    }
   ],
   "source": [
    "sum(ideal_model.feature_importances_)"
   ]
  },
  {
   "cell_type": "code",
   "execution_count": 87,
   "id": "d6a207fe",
   "metadata": {},
   "outputs": [
    {
     "data": {
      "text/plain": [
       "68"
      ]
     },
     "execution_count": 87,
     "metadata": {},
     "output_type": "execute_result"
    }
   ],
   "source": [
    "df.posting_date.isna().sum()"
   ]
  },
  {
   "cell_type": "code",
   "execution_count": 88,
   "id": "ca3933da",
   "metadata": {},
   "outputs": [
    {
     "data": {
      "text/plain": [
       "2021-04-23T22:13:05-0400    12\n",
       "2021-04-13T13:19:15-0500    11\n",
       "2021-04-22T20:32:05-0400    11\n",
       "2021-04-16T12:07:56-0500    10\n",
       "2021-04-29T20:06:09-0500     9\n",
       "                            ..\n",
       "2021-04-05T12:01:13-0500     1\n",
       "2021-04-05T13:57:52-0500     1\n",
       "2021-04-05T14:28:08-0500     1\n",
       "2021-04-05T14:33:37-0500     1\n",
       "2021-04-04T03:21:07-0600     1\n",
       "Name: posting_date, Length: 381536, dtype: int64"
      ]
     },
     "execution_count": 88,
     "metadata": {},
     "output_type": "execute_result"
    }
   ],
   "source": [
    "df.posting_date.value_counts()"
   ]
  },
  {
   "cell_type": "code",
   "execution_count": 89,
   "id": "d9d41c9b",
   "metadata": {},
   "outputs": [
    {
     "data": {
      "text/plain": [
       "100000.0    2263\n",
       "1.0         2246\n",
       "0.0         1965\n",
       "200000.0    1728\n",
       "150000.0    1603\n",
       "            ... \n",
       "149468.0       1\n",
       "154259.0       1\n",
       "111887.0       1\n",
       "213826.0       1\n",
       "26892.0        1\n",
       "Name: odometer, Length: 104870, dtype: int64"
      ]
     },
     "execution_count": 89,
     "metadata": {},
     "output_type": "execute_result"
    }
   ],
   "source": [
    "df.odometer.value_counts()"
   ]
  },
  {
   "cell_type": "code",
   "execution_count": null,
   "id": "7c4c13a1",
   "metadata": {},
   "outputs": [],
   "source": []
  }
 ],
 "metadata": {
  "kernelspec": {
   "display_name": "Python 3 (ipykernel)",
   "language": "python",
   "name": "python3"
  },
  "language_info": {
   "codemirror_mode": {
    "name": "ipython",
    "version": 3
   },
   "file_extension": ".py",
   "mimetype": "text/x-python",
   "name": "python",
   "nbconvert_exporter": "python",
   "pygments_lexer": "ipython3",
   "version": "3.11.3"
  }
 },
 "nbformat": 4,
 "nbformat_minor": 5
}
